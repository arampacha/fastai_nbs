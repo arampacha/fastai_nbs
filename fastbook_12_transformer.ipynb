{
  "nbformat": 4,
  "nbformat_minor": 0,
  "metadata": {
    "colab": {
      "name": "fastbook_12_transformer.ipynb",
      "provenance": [],
      "collapsed_sections": [],
      "include_colab_link": true
    },
    "kernelspec": {
      "display_name": "Python 3",
      "language": "python",
      "name": "python3"
    },
    "language_info": {
      "codemirror_mode": {
        "name": "ipython",
        "version": 3
      },
      "file_extension": ".py",
      "mimetype": "text/x-python",
      "name": "python",
      "nbconvert_exporter": "python",
      "pygments_lexer": "ipython3",
      "version": "3.8.5"
    },
    "toc": {
      "base_numbering": 1,
      "nav_menu": {},
      "number_sections": true,
      "sideBar": true,
      "skip_h1_title": false,
      "title_cell": "Table of Contents",
      "title_sidebar": "Contents",
      "toc_cell": false,
      "toc_position": {},
      "toc_section_display": true,
      "toc_window_display": false
    }
  },
  "cells": [
    {
      "cell_type": "markdown",
      "metadata": {
        "id": "view-in-github",
        "colab_type": "text"
      },
      "source": [
        "<a href=\"https://colab.research.google.com/github/arampacha/fastai_nbs/blob/main/fastbook_12_transformer.ipynb\" target=\"_parent\"><img src=\"https://colab.research.google.com/assets/colab-badge.svg\" alt=\"Open In Colab\"/></a>"
      ]
    },
    {
      "cell_type": "code",
      "metadata": {
        "id": "J1vMAp9RdEME",
        "outputId": "a7bb76b7-cb5d-46ff-ce11-1fa0aa19530b",
        "colab": {
          "base_uri": "https://localhost:8080/"
        }
      },
      "source": [
        "!pip install -Uqq fastai"
      ],
      "execution_count": null,
      "outputs": [
        {
          "output_type": "stream",
          "text": [
            "\u001b[K     |████████████████████████████████| 194kB 6.1MB/s \n",
            "\u001b[K     |████████████████████████████████| 51kB 5.9MB/s \n",
            "\u001b[?25h"
          ],
          "name": "stdout"
        }
      ]
    },
    {
      "cell_type": "markdown",
      "metadata": {
        "id": "9iG8IqzSYhst"
      },
      "source": [
        "## A Transformer based Language Model form scratch"
      ]
    },
    {
      "cell_type": "markdown",
      "metadata": {
        "id": "v9xmJtyEYhsv"
      },
      "source": [
        "In this notebook i'm going to construct transformer based language model from scratch starting with the simplest building blocks. This is inspired by Chapter 12 of [Deep Learning for Coders book](https://www.amazon.com/Deep-Learning-Coders-fastai-PyTorch/dp/1492045527) in which it's demonstrated how to create a Recurrent Neural Network. It provides a strong intuition of how RNNs relate to regular feed-forward neural nets and why certain design choices were made. Here we aim to aquire similar kind of intuition about Transfomer based architectures.\n",
        "\n",
        "But as always we should start with the data to be modeled, 'cause without data any model makes no particular sense."
      ]
    },
    {
      "cell_type": "markdown",
      "metadata": {
        "id": "pY6kxH-MYhsz"
      },
      "source": [
        "### Data"
      ]
    },
    {
      "cell_type": "markdown",
      "metadata": {
        "id": "5NDCvszHYhs1"
      },
      "source": [
        "Similar to authors of the book I'll use simple Human numbers dataset which is specifically designed to prototyping model fast and straightforward. For more details on the data one can refer to the aforemantioned book chapter which is also available for free as [a notebook](https://github.com/fastai/fastbook/blob/master/12_nlp_dive.ipynb) (isn't that awesome?!)"
      ]
    },
    {
      "cell_type": "code",
      "metadata": {
        "id": "ZVbdeXJLfDWA",
        "outputId": "1e91ecbb-9451-4ced-cea4-5fe86407befe",
        "colab": {
          "base_uri": "https://localhost:8080/",
          "height": 17
        }
      },
      "source": [
        "from fastai.text.all import *\n",
        "path = untar_data(URLs.HUMAN_NUMBERS)\n",
        "Path.BASE_PATH = path\n",
        "path.ls()"
      ],
      "execution_count": null,
      "outputs": [
        {
          "output_type": "execute_result",
          "data": {
            "text/plain": [
              "(#2) [Path('valid.txt'),Path('train.txt')]"
            ]
          },
          "metadata": {
            "tags": []
          },
          "execution_count": 1
        }
      ]
    },
    {
      "cell_type": "markdown",
      "metadata": {
        "id": "BGkXUSQYYhs_"
      },
      "source": [
        "The data consists of consecutive numbers from 1 to 9999 inclusive spelled as words."
      ]
    },
    {
      "cell_type": "code",
      "metadata": {
        "id": "12L4Y2IZfP3U",
        "outputId": "fea0eb92-f883-4455-859d-322ea8554f0f",
        "colab": {
          "base_uri": "https://localhost:8080/"
        }
      },
      "source": [
        "lines = L()\n",
        "with open(path/'train.txt') as f: lines += L(*f.readlines())\n",
        "with open(path/'valid.txt') as f: lines += L(*f.readlines())\n",
        "lines"
      ],
      "execution_count": null,
      "outputs": [
        {
          "output_type": "execute_result",
          "data": {
            "text/plain": [
              "(#9998) ['one \\n','two \\n','three \\n','four \\n','five \\n','six \\n','seven \\n','eight \\n','nine \\n','ten \\n'...]"
            ]
          },
          "metadata": {
            "tags": []
          },
          "execution_count": 2
        }
      ]
    },
    {
      "cell_type": "code",
      "metadata": {
        "id": "3DmYFw56fVkG",
        "outputId": "54ecee0e-3bcf-4d73-a703-39df3fae5ef3",
        "colab": {
          "base_uri": "https://localhost:8080/",
          "height": 37
        }
      },
      "source": [
        "text = ' . '.join([l.strip() for l in lines])\n",
        "tokens = text.split(' ')\n",
        "tokens[:10]"
      ],
      "execution_count": null,
      "outputs": [
        {
          "output_type": "execute_result",
          "data": {
            "text/plain": [
              "['one', '.', 'two', '.', 'three', '.', 'four', '.', 'five', '.']"
            ]
          },
          "metadata": {
            "tags": []
          },
          "execution_count": 3
        }
      ]
    },
    {
      "cell_type": "code",
      "metadata": {
        "id": "ShoK-h1tfd7v",
        "outputId": "693074d8-8d3f-40d1-f332-906f5b05a226",
        "colab": {
          "base_uri": "https://localhost:8080/"
        }
      },
      "source": [
        "vocab = L(*tokens).unique()\n",
        "vocab"
      ],
      "execution_count": null,
      "outputs": [
        {
          "output_type": "execute_result",
          "data": {
            "text/plain": [
              "(#30) ['one','.','two','three','four','five','six','seven','eight','nine'...]"
            ]
          },
          "metadata": {
            "tags": []
          },
          "execution_count": 4
        }
      ]
    },
    {
      "cell_type": "code",
      "metadata": {
        "id": "tEJDCek3fi1Q",
        "outputId": "ed89d572-0053-48c8-91d7-7e09b93ce126",
        "colab": {
          "base_uri": "https://localhost:8080/"
        }
      },
      "source": [
        "word2idx = {w:i for i,w in enumerate(vocab)}\n",
        "nums = L(word2idx[i] for i in tokens)\n",
        "nums"
      ],
      "execution_count": null,
      "outputs": [
        {
          "output_type": "execute_result",
          "data": {
            "text/plain": [
              "(#63095) [0,1,2,1,3,1,4,1,5,1...]"
            ]
          },
          "metadata": {
            "tags": []
          },
          "execution_count": 5
        }
      ]
    },
    {
      "cell_type": "markdown",
      "metadata": {
        "id": "8n6KUlbMYhtd"
      },
      "source": [
        "The task will be to predict subsequent token given preceding three. This kind of tasks when the goal is to predict next token from previous ones is called autoregresive language modeling."
      ]
    },
    {
      "cell_type": "code",
      "metadata": {
        "id": "ZvtW2XIVfqa_",
        "outputId": "1af41d60-58c7-4ff4-992b-2124bd3ab1af",
        "colab": {
          "base_uri": "https://localhost:8080/"
        }
      },
      "source": [
        "L((tokens[i:i+3], tokens[i+3]) for i in range(0,len(tokens)-4,3))"
      ],
      "execution_count": null,
      "outputs": [
        {
          "output_type": "execute_result",
          "data": {
            "text/plain": [
              "(#21031) [(['one', '.', 'two'], '.'),(['.', 'three', '.'], 'four'),(['four', '.', 'five'], '.'),(['.', 'six', '.'], 'seven'),(['seven', '.', 'eight'], '.'),(['.', 'nine', '.'], 'ten'),(['ten', '.', 'eleven'], '.'),(['.', 'twelve', '.'], 'thirteen'),(['thirteen', '.', 'fourteen'], '.'),(['.', 'fifteen', '.'], 'sixteen')...]"
            ]
          },
          "metadata": {
            "tags": []
          },
          "execution_count": 6
        }
      ]
    },
    {
      "cell_type": "code",
      "metadata": {
        "id": "GLkeIFFafwyb",
        "outputId": "2b0f6ab2-0998-4f66-faba-2601c692db99",
        "colab": {
          "base_uri": "https://localhost:8080/"
        }
      },
      "source": [
        "seqs = L((tensor(nums[i:i+3]), nums[i+3]) for i in range(0,len(nums)-4,3))\n",
        "seqs"
      ],
      "execution_count": null,
      "outputs": [
        {
          "output_type": "execute_result",
          "data": {
            "text/plain": [
              "(#21031) [(tensor([0, 1, 2]), 1),(tensor([1, 3, 1]), 4),(tensor([4, 1, 5]), 1),(tensor([1, 6, 1]), 7),(tensor([7, 1, 8]), 1),(tensor([1, 9, 1]), 10),(tensor([10,  1, 11]), 1),(tensor([ 1, 12,  1]), 13),(tensor([13,  1, 14]), 1),(tensor([ 1, 15,  1]), 16)...]"
            ]
          },
          "metadata": {
            "tags": []
          },
          "execution_count": 7
        }
      ]
    },
    {
      "cell_type": "code",
      "metadata": {
        "id": "OiZ42KiSf4xZ"
      },
      "source": [
        "bs = 64\n",
        "cut = int(len(seqs) * 0.8)\n",
        "dls = DataLoaders.from_dsets(seqs[:cut], seqs[cut:], bs=64, shuffle=False)"
      ],
      "execution_count": null,
      "outputs": []
    },
    {
      "cell_type": "code",
      "metadata": {
        "id": "gR7uCM3fYhtv",
        "outputId": "c7a69b92-64a8-4b84-9841-c594e302b7e7"
      },
      "source": [
        "x, y = dls.one_batch()\n",
        "x.shape, y.shape"
      ],
      "execution_count": null,
      "outputs": [
        {
          "output_type": "execute_result",
          "data": {
            "text/plain": [
              "(torch.Size([64, 3]), torch.Size([64]))"
            ]
          },
          "metadata": {
            "tags": []
          },
          "execution_count": 9
        }
      ]
    },
    {
      "cell_type": "markdown",
      "metadata": {
        "heading_collapsed": true,
        "id": "Ey8OWvHTtdPQ"
      },
      "source": [
        "### Dot product attention"
      ]
    },
    {
      "cell_type": "markdown",
      "metadata": {
        "hidden": true,
        "id": "LcFJaSnwgfuz"
      },
      "source": [
        "![Multi head attention](https://github.com/fastai/course-v3/blob/master/nbs/dl2/images/attention.png?raw=1)"
      ]
    },
    {
      "cell_type": "markdown",
      "metadata": {
        "hidden": true,
        "id": "rr3xoXP1Yht5"
      },
      "source": [
        "The core idea behind Transformers is Attention. It was introduced in . Since the release of famous paper Attention is All You Need transformers has become most popular architecture for language modelling. \n",
        "\n",
        "There are a lot of great resourses explaining transformers architecture. I'll list some of those I found useful and comprehensive:\n",
        "1. [The Annotated Transformer](http://nlp.seas.harvard.edu/2018/04/03/attention.html) completes the original paper with code\n",
        "2. [Encoder-Decoder Model](https://colab.research.google.com/github/patrickvonplaten/notebooks/blob/master/Encoder_Decoder_Model.ipynb) notebook by huggingface gives mathemetically grounded explanation of how transformer encoder-decoder models work\n",
        "3. [The Illustrated GPT-2](https://jalammar.github.io/illustrated-gpt2/) one of the great blogposts by Jay Alammar visualizing generative language modelling on exaple of GPT-2\n",
        "4. [minGPT](https://github.com/karpathy/minGPT) cool repo by A. Karpathy providing clear minimal implementation of GPT model\n",
        "\n",
        "There exist multiple attention mechanisms. The particular one used in the original transformer paper is Scaled Dot Product attention.\n",
        "Given query vector for particular token we will compare it with a key vector for each token in a sequence and decide how much value vectors of those will effect resulting representetion of the token of interest. One way to view this from a linguistic prospective is: a key is a question each word respondes to, value is information that word represent and a query is related to what every word was looking to combine with.\n",
        "\n",
        "Mathemetically we can compute attention for all _q_, _k_, _v_ in a matrix form:\n",
        "\n",
        "$$\\textbf {Attention}(Q,K,V) = \\textbf {softmax}({QK^T\\over\\sqrt d_k})V $$\n",
        "\n",
        "Note that dot product $QK^T$ results in matrix of shape (seq_len x seq_len). Then it is devided by $ \\sqrt d_k$ to compensate the fact, that longer sequences will have larger dot product. $ \\textbf{softmax}$ is applied to rescale the attention matrix to be betwin 0 and 1. When multiplied by $V$ it produces a matrix of the same shape as $V$ (seq_len x dv).\n",
        "\n",
        "So where those _q_, _k_, _v_ come from. Well that's fairly straitforward queries are culculated from the embeddings of tokens we want to find representation for. Keys and values are calculated from the embeddings of context tokens. In case of self attention all of them come from the original sequence."
      ]
    },
    {
      "cell_type": "code",
      "metadata": {
        "hidden": true,
        "id": "5zoekAIjggu0"
      },
      "source": [
        "class SelfAttention(Module):\n",
        "    def __init__(self, d_in, d_qk, d_v=None):\n",
        "        d_v = ifnone(d_v, d_qk)\n",
        "        self.iq = nn.Linear(d_in, d_qk)\n",
        "        self.ik = nn.Linear(d_in, d_qk)\n",
        "        self.iv = nn.Linear(d_in, d_v)\n",
        "        self.out = nn.Linear(d_v, d_in)\n",
        "        self.scale = d_qk**0.5\n",
        "    def forward(self, x):\n",
        "        q, k, v = self.iq(x), self.ik(x), self.iv(x)\n",
        "        return self.out(F.softmax(q@k.transpose(-2,-1)/self.scale, -1)@v)"
      ],
      "execution_count": null,
      "outputs": []
    },
    {
      "cell_type": "markdown",
      "metadata": {
        "hidden": true,
        "id": "y0BLuZcSYhuB"
      },
      "source": [
        "Even though self attention mechanism is extremely useful it posseses limited expressive power. Essentially we are computing weighted some of the input modified by single affine transformation, shared across the whole sequence. To add more computational power to the model we can introduce fully connected feedforward network on top of the SelfAttention layer.\n",
        "\n",
        "Curious reader can find detailed formal analysis of the roles of SelfAttention and FeedForward layers in transformer architecture in [this paper](https://arxiv.org/pdf/1912.10077.pdf) by C. Yun et al.\n",
        "In brief the authors state that SelfAttention layers compute precise contextual maps and FeedForward layers then assign the results of these contextual maps to the desired output values."
      ]
    },
    {
      "cell_type": "code",
      "metadata": {
        "hidden": true,
        "id": "a6f2StdmsSG9"
      },
      "source": [
        "class FeedForward(Module):\n",
        "    def __init__(self, d_in, d_ff):\n",
        "        self.lin1 = nn.Linear(d_in, d_ff)\n",
        "        self.lin2 = nn.Linear(d_ff, d_in)\n",
        "        self.act = nn.ReLU()\n",
        "        \n",
        "    def forward(self, x):\n",
        "        out = self.lin2(self.act(self.lin1(x)))\n",
        "        return out"
      ],
      "execution_count": null,
      "outputs": []
    },
    {
      "cell_type": "markdown",
      "metadata": {
        "hidden": true,
        "id": "G99sPt8tYhuG"
      },
      "source": [
        "The output would be of shape (bs, seq_len, d) which then may be mapped to (bs, seq_len, vocab_sz) using linear layer. But we have only one target. To adress this issue we can simply do average pooling over seq_len dimention.\n",
        "\n",
        "The resulting model is fairly simple:"
      ]
    },
    {
      "cell_type": "code",
      "metadata": {
        "hidden": true,
        "id": "7ENQSP5HYhuI"
      },
      "source": [
        "class Model1(Module):\n",
        "    def __init__(self, vocab_sz, d_model, d_qk, d_ff):\n",
        "        self.emb = Embedding(vocab_sz, d_model)\n",
        "        self.attn = SelfAttention(d_model, d_qk)\n",
        "        self.ff = FeedForward(d_model, d_ff)\n",
        "        self.out = nn.Linear(d_model, vocab_sz)\n",
        "    def forward(self, x):\n",
        "        x = self.emb(x)\n",
        "        x = self.ff(self.attn(x))\n",
        "        x = x.mean(1)\n",
        "        return self.out(x)"
      ],
      "execution_count": null,
      "outputs": []
    },
    {
      "cell_type": "code",
      "metadata": {
        "hidden": true,
        "id": "JPUJTnaoYhuQ",
        "outputId": "c1f7c294-b6b4-4f63-bd06-f46b6120c025"
      },
      "source": [
        "model = Model1(len(vocab), 64, 64, 128)\n",
        "out = model(x)\n",
        "out.shape"
      ],
      "execution_count": null,
      "outputs": [
        {
          "output_type": "execute_result",
          "data": {
            "text/plain": [
              "torch.Size([64, 30])"
            ]
          },
          "metadata": {
            "tags": []
          },
          "execution_count": 13
        }
      ]
    },
    {
      "cell_type": "code",
      "metadata": {
        "hidden": true,
        "id": "GvyTjPl_YhuW",
        "outputId": "63be6048-0f6b-4284-aff6-a4ce87c6eb00"
      },
      "source": [
        "learn = Learner(dls, model, loss_func=CrossEntropyLossFlat(), metrics=accuracy)\n",
        "learn.lr_find()"
      ],
      "execution_count": null,
      "outputs": [
        {
          "output_type": "display_data",
          "data": {
            "text/html": [
              ""
            ],
            "text/plain": [
              "<IPython.core.display.HTML object>"
            ]
          },
          "metadata": {
            "tags": []
          }
        },
        {
          "output_type": "execute_result",
          "data": {
            "text/plain": [
              "SuggestedLRs(lr_min=0.004786301031708717, lr_steep=0.019054606556892395)"
            ]
          },
          "metadata": {
            "tags": []
          },
          "execution_count": 14
        },
        {
          "output_type": "display_data",
          "data": {
            "image/png": "[encoded data removed]",
            "text/plain": [
              "<Figure size 432x288 with 1 Axes>"
            ]
          },
          "metadata": {
            "tags": [],
            "needs_background": "light"
          }
        }
      ]
    },
    {
      "cell_type": "code",
      "metadata": {
        "hidden": true,
        "id": "w6seK1Y8Yhua",
        "outputId": "3f6e90a6-0dfa-4aee-909a-247731312a75"
      },
      "source": [
        "learn.fit_one_cycle(5, 1e-2)"
      ],
      "execution_count": null,
      "outputs": [
        {
          "output_type": "display_data",
          "data": {
            "text/html": [
              "<table border=\"1\" class=\"dataframe\">\n",
              "  <thead>\n",
              "    <tr style=\"text-align: left;\">\n",
              "      <th>epoch</th>\n",
              "      <th>train_loss</th>\n",
              "      <th>valid_loss</th>\n",
              "      <th>accuracy</th>\n",
              "      <th>time</th>\n",
              "    </tr>\n",
              "  </thead>\n",
              "  <tbody>\n",
              "    <tr>\n",
              "      <td>0</td>\n",
              "      <td>1.849885</td>\n",
              "      <td>2.357760</td>\n",
              "      <td>0.423342</td>\n",
              "      <td>00:02</td>\n",
              "    </tr>\n",
              "    <tr>\n",
              "      <td>1</td>\n",
              "      <td>1.610287</td>\n",
              "      <td>2.051206</td>\n",
              "      <td>0.455907</td>\n",
              "      <td>00:02</td>\n",
              "    </tr>\n",
              "    <tr>\n",
              "      <td>2</td>\n",
              "      <td>1.992329</td>\n",
              "      <td>2.104619</td>\n",
              "      <td>0.423342</td>\n",
              "      <td>00:02</td>\n",
              "    </tr>\n",
              "    <tr>\n",
              "      <td>3</td>\n",
              "      <td>1.750790</td>\n",
              "      <td>1.790652</td>\n",
              "      <td>0.445686</td>\n",
              "      <td>00:02</td>\n",
              "    </tr>\n",
              "    <tr>\n",
              "      <td>4</td>\n",
              "      <td>1.691531</td>\n",
              "      <td>1.759753</td>\n",
              "      <td>0.467792</td>\n",
              "      <td>00:02</td>\n",
              "    </tr>\n",
              "  </tbody>\n",
              "</table>"
            ],
            "text/plain": [
              "<IPython.core.display.HTML object>"
            ]
          },
          "metadata": {
            "tags": []
          }
        }
      ]
    },
    {
      "cell_type": "markdown",
      "metadata": {
        "hidden": true,
        "id": "2S3m5NRWYhuf"
      },
      "source": [
        "To evaluete the model performance we need to compare it to some baseline. Let's see what would be the accuracy if of the model which would always predict most common token."
      ]
    },
    {
      "cell_type": "code",
      "metadata": {
        "hidden": true,
        "id": "pWqBswuFYhuh",
        "outputId": "dd3bb207-4a33-4cd7-9936-f220946b97ad"
      },
      "source": [
        "n,counts = 0,torch.zeros(len(vocab))\n",
        "for x,y in dls.valid:\n",
        "    n += y.shape[0]\n",
        "    for i in range_of(vocab): counts[i] += (y==i).long().sum()\n",
        "idx = torch.argmax(counts)\n",
        "idx, vocab[idx.item()], counts[idx].item()/n"
      ],
      "execution_count": null,
      "outputs": [
        {
          "output_type": "execute_result",
          "data": {
            "text/plain": [
              "(tensor(29), 'thousand', 0.15165200855716662)"
            ]
          },
          "metadata": {
            "tags": []
          },
          "execution_count": 16
        }
      ]
    },
    {
      "cell_type": "markdown",
      "metadata": {
        "hidden": true,
        "id": "JgsU1NY-Yhul"
      },
      "source": [
        "As you can see, always predicting \"thousand\" which turn out to be the most common token in the dataset would result in ~15% accuracy. Our simple transformer does much better then that. It feels promising, so let's try to improve the architecture and check if we can get better results."
      ]
    },
    {
      "cell_type": "markdown",
      "metadata": {
        "heading_collapsed": true,
        "id": "T5ZKRQu2Yhum"
      },
      "source": [
        "### Multihead attention"
      ]
    },
    {
      "cell_type": "markdown",
      "metadata": {
        "hidden": true,
        "id": "-mCN9cmpYhun"
      },
      "source": [
        "A structured sequence may comprise multiple distinctive kinds of relationships. Our model is forced to learn only one way in which queries, keys and values are constructed from the original token embedding. To remove this limitation we can modify attention layer include multiple heads which would correspond to extracting different kinds of relationships between tokens. The MultiHeadAttention layer consits of several heads each of those is similar to SelfAttention layer we made before. To keep computational cost of the multi-head layer we set $d_k = d_v = d_{model}/n_h$, where $n_h$ is number of heads."
      ]
    },
    {
      "cell_type": "code",
      "metadata": {
        "hidden": true,
        "id": "Fulk4idYYhun"
      },
      "source": [
        "class SelfAttention(Module):\n",
        "    def __init__(self, d_in, d_qk, d_v=None):\n",
        "        d_v = ifnone(d_v, d_qk)\n",
        "        self.iq = nn.Linear(d_in, d_qk)\n",
        "        self.ik = nn.Linear(d_in, d_qk)\n",
        "        self.iv = nn.Linear(d_in, d_v)\n",
        "        self.scale = d_qk**0.5\n",
        "    def forward(self, x):\n",
        "        q, k, v = self.iq(x), self.ik(x), self.iv(x)\n",
        "        return F.softmax(q@k.transpose(-2,-1)/self.scale, -1)@v"
      ],
      "execution_count": null,
      "outputs": []
    },
    {
      "cell_type": "code",
      "metadata": {
        "hidden": true,
        "id": "JesAIFH-Yhut"
      },
      "source": [
        "class MultiHeadAttention(Module):\n",
        "    def __init__(self, d_model, n_heads, d_qk=None, d_v=None):\n",
        "        d_qk = ifnone(d_qk, d_model//n_heads)\n",
        "        d_v = ifnone(d_v, d_qk)\n",
        "        self.heads = nn.ModuleList([SelfAttention(d_model, d_qk) for _ in range(n_heads)])\n",
        "        self.out = nn.Linear(d_v*n_heads, d_model)\n",
        "        \n",
        "    def forward(self, x):\n",
        "        out = [m(x) for m in self.heads]\n",
        "        return self.out(torch.cat(out, -1))"
      ],
      "execution_count": null,
      "outputs": []
    },
    {
      "cell_type": "code",
      "metadata": {
        "hidden": true,
        "id": "9Ykre2NtYhu0",
        "outputId": "bda4cf98-e877-420a-f653-c1f0899c13ac"
      },
      "source": [
        "inp = torch.randn(8, 10, 64)\n",
        "mha = MultiHeadAttention(64, 8)\n",
        "out = mha(inp)\n",
        "out.shape"
      ],
      "execution_count": null,
      "outputs": [
        {
          "output_type": "execute_result",
          "data": {
            "text/plain": [
              "torch.Size([8, 10, 64])"
            ]
          },
          "metadata": {
            "tags": []
          },
          "execution_count": 19
        }
      ]
    },
    {
      "cell_type": "code",
      "metadata": {
        "hidden": true,
        "id": "GwEM6yTHYhu4"
      },
      "source": [
        "class Model2(Module):\n",
        "    def __init__(self, vocab_sz, d_model=64, n_heads=4, d_ff=64*4):\n",
        "        self.emb = nn.Embedding(vocab_sz, d_model)\n",
        "        self.attn = MultiHeadAttention(d_model, n_heads)\n",
        "        self.ff = FeedForward(d_model, d_ff)\n",
        "        self.out = nn.Linear(d_model, vocab_sz)\n",
        "    def forward(self, x):\n",
        "        x = self.emb(x)\n",
        "        x = self.ff(self.attn(x))\n",
        "        x = x.mean(1)\n",
        "        return self.out(x)"
      ],
      "execution_count": null,
      "outputs": []
    },
    {
      "cell_type": "code",
      "metadata": {
        "hidden": true,
        "id": "ByF7ib1OYhu9",
        "outputId": "1d4bcf91-e56e-4f3b-e69a-9d2d480e781a"
      },
      "source": [
        "learn = Learner(dls, Model2(len(vocab)), loss_func=CrossEntropyLossFlat(), metrics=accuracy)\n",
        "learn.fit_one_cycle(5, 1e-3)"
      ],
      "execution_count": null,
      "outputs": [
        {
          "output_type": "display_data",
          "data": {
            "text/html": [
              "<table border=\"1\" class=\"dataframe\">\n",
              "  <thead>\n",
              "    <tr style=\"text-align: left;\">\n",
              "      <th>epoch</th>\n",
              "      <th>train_loss</th>\n",
              "      <th>valid_loss</th>\n",
              "      <th>accuracy</th>\n",
              "      <th>time</th>\n",
              "    </tr>\n",
              "  </thead>\n",
              "  <tbody>\n",
              "    <tr>\n",
              "      <td>0</td>\n",
              "      <td>1.777616</td>\n",
              "      <td>2.039720</td>\n",
              "      <td>0.417400</td>\n",
              "      <td>00:03</td>\n",
              "    </tr>\n",
              "    <tr>\n",
              "      <td>1</td>\n",
              "      <td>1.538940</td>\n",
              "      <td>1.959126</td>\n",
              "      <td>0.456382</td>\n",
              "      <td>00:04</td>\n",
              "    </tr>\n",
              "    <tr>\n",
              "      <td>2</td>\n",
              "      <td>1.568550</td>\n",
              "      <td>1.849972</td>\n",
              "      <td>0.461612</td>\n",
              "      <td>00:03</td>\n",
              "    </tr>\n",
              "    <tr>\n",
              "      <td>3</td>\n",
              "      <td>1.582738</td>\n",
              "      <td>1.678933</td>\n",
              "      <td>0.468743</td>\n",
              "      <td>00:03</td>\n",
              "    </tr>\n",
              "    <tr>\n",
              "      <td>4</td>\n",
              "      <td>1.573467</td>\n",
              "      <td>1.682071</td>\n",
              "      <td>0.468743</td>\n",
              "      <td>00:03</td>\n",
              "    </tr>\n",
              "  </tbody>\n",
              "</table>"
            ],
            "text/plain": [
              "<IPython.core.display.HTML object>"
            ]
          },
          "metadata": {
            "tags": []
          }
        }
      ]
    },
    {
      "cell_type": "markdown",
      "metadata": {
        "heading_collapsed": true,
        "id": "7CMwwSTEYhvC"
      },
      "source": [
        "### MultiHead Attention Refactor"
      ]
    },
    {
      "cell_type": "markdown",
      "metadata": {
        "hidden": true,
        "id": "iI9kGQRJYhvD"
      },
      "source": [
        "Python `for` loops are slow, therefore it is better to refactor the MultiHeadAttention module to compute Q, K, V for all heads in batch."
      ]
    },
    {
      "cell_type": "code",
      "metadata": {
        "hidden": true,
        "id": "BsepMpkuYhvD"
      },
      "source": [
        "class MultiHeadAttention(Module):\n",
        "    def __init__(self, d_model, n_heads):\n",
        "        assert d_model%n_heads == 0\n",
        "        self.n_heads = n_heads\n",
        "        #d_qk, d_v = d_model//n_heads, d_model//n_heads\n",
        "        self.iq = nn.Linear(d_model, d_model)\n",
        "        self.ik = nn.Linear(d_model, d_model)\n",
        "        self.iv = nn.Linear(d_model, d_model)\n",
        "        self.out = nn.Linear(d_model, d_model)\n",
        "        \n",
        "    def forward(self, x):\n",
        "        bs, seq_len, d = x.size()\n",
        "        # (bs,sl,d) -> (bs,sl,nh,dh) -> (bs,nh,sl,dh)\n",
        "        q = self.iq(x).view(bs, seq_len, self.n_heads, d//self.n_heads).transpose(1, 2)\n",
        "        k = self.ik(x).view(bs, seq_len, self.n_heads, d//self.n_heads).transpose(1, 2)\n",
        "        v = self.iv(x).view(bs, seq_len, self.n_heads, d//self.n_heads).transpose(1, 2)\n",
        "        att = F.softmax(q@k.transpose(-2,-1)/k.size(-1)**0.5, -1)\n",
        "        \n",
        "        out = att @ v # (bs, nh, sl, sl) x (bs, nh, sl, dh) -> (bs, nh, sl, dh)\n",
        "        out = out.transpose(1, 2).contiguous().view(bs, seq_len, d) # back to original shape\n",
        "\n",
        "        return self.out(out)"
      ],
      "execution_count": null,
      "outputs": []
    },
    {
      "cell_type": "code",
      "metadata": {
        "hidden": true,
        "id": "IIvjWrL6YhvT",
        "outputId": "6ac2fe22-2b90-4ee1-9aac-83716aa22707"
      },
      "source": [
        "learn = Learner(dls, Model2(len(vocab)), loss_func=CrossEntropyLossFlat(), metrics=accuracy)\n",
        "learn.fit_one_cycle(5, 1e-3)"
      ],
      "execution_count": null,
      "outputs": [
        {
          "output_type": "display_data",
          "data": {
            "text/html": [
              "<table border=\"1\" class=\"dataframe\">\n",
              "  <thead>\n",
              "    <tr style=\"text-align: left;\">\n",
              "      <th>epoch</th>\n",
              "      <th>train_loss</th>\n",
              "      <th>valid_loss</th>\n",
              "      <th>accuracy</th>\n",
              "      <th>time</th>\n",
              "    </tr>\n",
              "  </thead>\n",
              "  <tbody>\n",
              "    <tr>\n",
              "      <td>0</td>\n",
              "      <td>1.751475</td>\n",
              "      <td>2.048160</td>\n",
              "      <td>0.422154</td>\n",
              "      <td>00:02</td>\n",
              "    </tr>\n",
              "    <tr>\n",
              "      <td>1</td>\n",
              "      <td>1.501326</td>\n",
              "      <td>1.906529</td>\n",
              "      <td>0.453054</td>\n",
              "      <td>00:02</td>\n",
              "    </tr>\n",
              "    <tr>\n",
              "      <td>2</td>\n",
              "      <td>1.547408</td>\n",
              "      <td>1.831737</td>\n",
              "      <td>0.449489</td>\n",
              "      <td>00:02</td>\n",
              "    </tr>\n",
              "    <tr>\n",
              "      <td>3</td>\n",
              "      <td>1.572775</td>\n",
              "      <td>1.673761</td>\n",
              "      <td>0.468029</td>\n",
              "      <td>00:02</td>\n",
              "    </tr>\n",
              "    <tr>\n",
              "      <td>4</td>\n",
              "      <td>1.563618</td>\n",
              "      <td>1.672115</td>\n",
              "      <td>0.468029</td>\n",
              "      <td>00:02</td>\n",
              "    </tr>\n",
              "  </tbody>\n",
              "</table>"
            ],
            "text/plain": [
              "<IPython.core.display.HTML object>"
            ]
          },
          "metadata": {
            "tags": []
          }
        }
      ]
    },
    {
      "cell_type": "markdown",
      "metadata": {
        "hidden": true,
        "id": "vtlyTr1MYhvX"
      },
      "source": [
        "Note that some speedup is observed even on such a tiny dataset and small model."
      ]
    },
    {
      "cell_type": "markdown",
      "metadata": {
        "id": "bQgJsZz8YhvY"
      },
      "source": [
        "### More signal"
      ]
    },
    {
      "cell_type": "markdown",
      "metadata": {
        "id": "cBEBry4-YhvZ"
      },
      "source": [
        "Similarly to the RNN case considered in the book, we can take the next step and create more signal for the model to learn from. To adapt to the modified objective we need to make couple of steps. First let's rearrange data to proper input-target pairs for the new task."
      ]
    },
    {
      "cell_type": "markdown",
      "metadata": {
        "id": "bkT4RsVoYhvd"
      },
      "source": [
        "#### Arranging data"
      ]
    },
    {
      "cell_type": "markdown",
      "metadata": {
        "id": "qMvldO7xYhve"
      },
      "source": [
        "Unlike RNN the tranformer is not a stateful model. This means it treats each sequence indepently and can only attend within fixed length context. This limitation was adressed by authors of [Transformer-XL paper](https://arxiv.org/abs/1901.02860) where adding a segment-level recurrence mechanism and a novel positional encoding scheme were proposed to enable capturing long-term dependencies. I will not go into details of TransformerXL architecture here. As will shell see stateless transformer can also learn a lot about the structure of our data.\n",
        "\n",
        "One thing to note in this case is that we don't need to maintain the structure of the data outside of the sequences, so we can shuffle the sequences randomly in the dataloader."
      ]
    },
    {
      "cell_type": "code",
      "metadata": {
        "id": "LQ_Cyq9XYhve",
        "outputId": "768c7517-ed38-4f76-e934-1ba982c45819"
      },
      "source": [
        "sl = 16\n",
        "seqs = L((tensor(nums[i:i+sl]), tensor(nums[i+1:i+sl+1]))\n",
        "         for i in range(0,len(nums)-sl-1,sl))\n",
        "cut = int(len(seqs) * 0.8)\n",
        "dls = DataLoaders.from_dsets(seqs[:cut], seqs[cut:],\n",
        "                             bs=bs, drop_last=True, shuffle=True)\n",
        "xb, yb = dls.one_batch()\n",
        "xb.shape, yb.shape"
      ],
      "execution_count": null,
      "outputs": [
        {
          "output_type": "execute_result",
          "data": {
            "text/plain": [
              "(torch.Size([64, 16]), torch.Size([64, 16]))"
            ]
          },
          "metadata": {
            "tags": []
          },
          "execution_count": 49
        }
      ]
    },
    {
      "cell_type": "code",
      "metadata": {
        "id": "ymd-JFQ3Yhvj",
        "outputId": "e67aa2d0-d15f-42c2-b70e-e61b8bf8e864"
      },
      "source": [
        "[L(vocab[o] for o in s) for s in seqs[0]]"
      ],
      "execution_count": null,
      "outputs": [
        {
          "output_type": "execute_result",
          "data": {
            "text/plain": [
              "[(#16) ['one','.','two','.','three','.','four','.','five','.'...],\n",
              " (#16) ['.','two','.','three','.','four','.','five','.','six'...]]"
            ]
          },
          "metadata": {
            "tags": []
          },
          "execution_count": 41
        }
      ]
    },
    {
      "cell_type": "markdown",
      "metadata": {
        "id": "CKoBNYjnYhvn"
      },
      "source": [
        "#### Positional encoding"
      ]
    },
    {
      "cell_type": "markdown",
      "metadata": {
        "id": "yc-i0pfeYhvn"
      },
      "source": [
        "Before we did average pooling over seq_len dimention. Our model didn't care about the order of the tokens at all. But actually order of the tokens in a sentence matter a lot. In our case `one hundred two` and `two hundred one` are pretty different and `hundred one two` doesn't make sense.\n",
        "\n",
        "To encorporate positional information into the model authors of the transformer architecture proposed to use positional encodings in addition to regular token embeddings. Positional encodings may be learned, but it's also possible to use hardcoded encodings. For instance encodings may be composed of sin and cos.\n",
        "In this way each position in a sequence will get unique vector associated with it."
      ]
    },
    {
      "cell_type": "code",
      "metadata": {
        "id": "Io39VaVkYhvp"
      },
      "source": [
        "class PositionalEncoding(Module):\n",
        "    def __init__(self, d):\n",
        "        self.register_buffer('freq', 1/(10000 ** (torch.arange(0., d, 2.)/d)))\n",
        "        self.factor = d**0.5\n",
        "    def forward(self, x):\n",
        "        pos_enc = torch.cat([torch.sin(torch.outer(torch.arange(x.size(1)), self.freq)),\n",
        "                             torch.cos(torch.outer(torch.arange(x.size(1)), self.freq))],\n",
        "                            axis=-1)\n",
        "        return x/self.factor + pos_enc"
      ],
      "execution_count": null,
      "outputs": []
    },
    {
      "cell_type": "code",
      "metadata": {
        "id": "6RmOIvTIYhvs",
        "outputId": "14d59e83-6d90-46c5-9094-f9b072a73b8b"
      },
      "source": [
        "x = torch.zeros(1, 16, 64)\n",
        "encs = PositionalEncoding(64)(x)\n",
        "plt.matshow(encs.squeeze())\n",
        "plt.xlabel('Embedding size')\n",
        "plt.ylabel('Sequence length')\n",
        "plt.show()"
      ],
      "execution_count": null,
      "outputs": [
        {
          "output_type": "display_data",
          "data": {
            "image/png": "[encoded data removed]",
            "text/plain": [
              "<Figure size 1152x288 with 1 Axes>"
            ]
          },
          "metadata": {
            "tags": [],
            "needs_background": "light"
          }
        }
      ]
    },
    {
      "cell_type": "code",
      "metadata": {
        "id": "DHjfpI46Yhvu"
      },
      "source": [
        "class TransformerEmbedding(Module):\n",
        "    def __init__(self, emb_sz, d_model):\n",
        "        self.emb = nn.Embedding(emb_sz, d_model)\n",
        "        self.pos_enc = PositionalEncoding(d_model)\n",
        "    def forward(self, x):\n",
        "        return self.pos_enc(self.emb(x))"
      ],
      "execution_count": null,
      "outputs": []
    },
    {
      "cell_type": "code",
      "metadata": {
        "id": "QH3GZUb1Yhvy"
      },
      "source": [
        "class Model3(Module):\n",
        "    def __init__(self, vocab_sz, d_model=64, n_heads=4, d_ff=64*4):\n",
        "        self.emb = TransformerEmbedding(vocab_sz, d_model)\n",
        "        self.attn = MultiHeadAttention(d_model, n_heads)\n",
        "        self.ff = FeedForward(d_model, d_ff)\n",
        "        self.out = nn.Linear(d_model, vocab_sz)\n",
        "    def forward(self, x):\n",
        "        x = self.emb(x)\n",
        "        x = self.ff(self.attn(x))\n",
        "        return self.out(x)"
      ],
      "execution_count": null,
      "outputs": []
    },
    {
      "cell_type": "code",
      "metadata": {
        "id": "HPM--hHjYhv1",
        "outputId": "ef9684c7-b97d-4a47-d839-1a81561e9164"
      },
      "source": [
        "model = Model3(len(vocab))\n",
        "out = model(xb)\n",
        "out.shape"
      ],
      "execution_count": null,
      "outputs": [
        {
          "output_type": "execute_result",
          "data": {
            "text/plain": [
              "torch.Size([64, 16, 30])"
            ]
          },
          "metadata": {
            "tags": []
          },
          "execution_count": 50
        }
      ]
    },
    {
      "cell_type": "code",
      "metadata": {
        "id": "qKfZUXORYhv7"
      },
      "source": [
        "def loss_func(inp, targ):\n",
        "    return F.cross_entropy(inp.view(-1, len(vocab)), targ.view(-1))"
      ],
      "execution_count": null,
      "outputs": []
    },
    {
      "cell_type": "code",
      "metadata": {
        "id": "-kcwar5UYhwA",
        "outputId": "b8c489d8-3adb-4724-a7d7-fa6f7cd265c8"
      },
      "source": [
        "learn = Learner(dls, Model3(len(vocab)), loss_func=loss_func, metrics=accuracy)\n",
        "learn.fit_one_cycle(5, 1e-2)"
      ],
      "execution_count": null,
      "outputs": [
        {
          "output_type": "display_data",
          "data": {
            "text/html": [
              "<table border=\"1\" class=\"dataframe\">\n",
              "  <thead>\n",
              "    <tr style=\"text-align: left;\">\n",
              "      <th>epoch</th>\n",
              "      <th>train_loss</th>\n",
              "      <th>valid_loss</th>\n",
              "      <th>accuracy</th>\n",
              "      <th>time</th>\n",
              "    </tr>\n",
              "  </thead>\n",
              "  <tbody>\n",
              "    <tr>\n",
              "      <td>0</td>\n",
              "      <td>2.855371</td>\n",
              "      <td>2.717834</td>\n",
              "      <td>0.157471</td>\n",
              "      <td>00:00</td>\n",
              "    </tr>\n",
              "    <tr>\n",
              "      <td>1</td>\n",
              "      <td>2.188235</td>\n",
              "      <td>1.624319</td>\n",
              "      <td>0.329753</td>\n",
              "      <td>00:00</td>\n",
              "    </tr>\n",
              "    <tr>\n",
              "      <td>2</td>\n",
              "      <td>1.153313</td>\n",
              "      <td>0.122275</td>\n",
              "      <td>0.971110</td>\n",
              "      <td>00:00</td>\n",
              "    </tr>\n",
              "    <tr>\n",
              "      <td>3</td>\n",
              "      <td>0.468753</td>\n",
              "      <td>0.064415</td>\n",
              "      <td>0.984212</td>\n",
              "      <td>00:00</td>\n",
              "    </tr>\n",
              "    <tr>\n",
              "      <td>4</td>\n",
              "      <td>0.212366</td>\n",
              "      <td>0.059186</td>\n",
              "      <td>0.985596</td>\n",
              "      <td>00:00</td>\n",
              "    </tr>\n",
              "  </tbody>\n",
              "</table>"
            ],
            "text/plain": [
              "<IPython.core.display.HTML object>"
            ]
          },
          "metadata": {
            "tags": []
          }
        }
      ]
    },
    {
      "cell_type": "markdown",
      "metadata": {
        "id": "chji-L_DYhwE"
      },
      "source": [
        "Wow! Thats a great accuracy! So the problem is solved and we only needed one attention layer and 2 layer deep feed-forward block? Don't you feel somewhat skeptical about this result?\n",
        "\n",
        "Well, you should be! Think about what we did here: the goal was to predict a target sequence, say `['.','two','.','three','.','four']` from an input `['one','.','two','.','three','.']`. These two sequences intersect on all positions except the first and the last one. So models needs to learn simply to copy input tokens starting from the second one to the outputs. In our case this will result in 15 correct predictions of total 16 positions, thats almost 94% accuracy. This makes the task very simple but not very useful to learn. To train proper autoregressive language model, as we did with RNNs, a concept of masking is to be introduced."
      ]
    },
    {
      "cell_type": "markdown",
      "metadata": {
        "id": "xQoUNmSHYhwE"
      },
      "source": [
        "#### Masking"
      ]
    },
    {
      "cell_type": "markdown",
      "metadata": {
        "id": "PAbHKWKnYhwF"
      },
      "source": [
        "So we want to allow the model for each token to attend only to itself and those prior to it. To acomplish this we can set all the values of attention matrix above the main diagonal to $-\\infty$. After softmax this values will effectively turn to 0 thus disabling attention to the \"future\"."
      ]
    },
    {
      "cell_type": "code",
      "metadata": {
        "id": "a96oz-jjYhwF"
      },
      "source": [
        "def get_subsequent_mask(x):\n",
        "    sz = x.size(1)\n",
        "    mask = (torch.triu(torch.ones(sz, sz, device=x.device)) == 1).transpose(0, 1)\n",
        "    mask = mask.float().masked_fill(mask == 0, float('-inf')).masked_fill(mask == 1, float(0.0))\n",
        "    return mask"
      ],
      "execution_count": null,
      "outputs": []
    },
    {
      "cell_type": "code",
      "metadata": {
        "id": "USodFQDhYhwI",
        "outputId": "c03840e5-5429-4b9a-995a-9a75d109fb2c"
      },
      "source": [
        "inp = torch.randn(8, 10, 64)\n",
        "mask = get_subsequent_mask(inp)\n",
        "plt.matshow(mask);"
      ],
      "execution_count": null,
      "outputs": [
        {
          "output_type": "display_data",
          "data": {
            "image/png": "[encoded data removed]",
            "text/plain": [
              "<Figure size 288x288 with 1 Axes>"
            ]
          },
          "metadata": {
            "tags": [],
            "needs_background": "light"
          }
        }
      ]
    },
    {
      "cell_type": "code",
      "metadata": {
        "id": "J5c6qnqyYhwL",
        "outputId": "9caca212-2e00-4040-f7aa-c5717726a620"
      },
      "source": [
        "q, k = torch.randn(8,10,32), torch.randn(8,10,32)\n",
        "att_ = F.softmax((q@k.permute(0,2,1)+mask), -1)\n",
        "plt.matshow(att_[0].detach());"
      ],
      "execution_count": null,
      "outputs": [
        {
          "output_type": "display_data",
          "data": {
            "image/png": "[encoded data removed]",
            "text/plain": [
              "<Figure size 288x288 with 1 Axes>"
            ]
          },
          "metadata": {
            "tags": [],
            "needs_background": "light"
          }
        }
      ]
    },
    {
      "cell_type": "markdown",
      "metadata": {
        "id": "p5l8M21yYhwN"
      },
      "source": [
        "We should also modify the attention layer to except mask:"
      ]
    },
    {
      "cell_type": "code",
      "metadata": {
        "id": "irBKpSolYhwO"
      },
      "source": [
        "class MultiHeadAttention(Module):\n",
        "    def __init__(self, d_model, n_heads):\n",
        "        assert d_model%n_heads == 0\n",
        "        self.n_heads = n_heads\n",
        "        d_qk, d_v = d_model//n_heads, d_model//n_heads\n",
        "        self.iq = nn.Linear(d_model, d_model)\n",
        "        self.ik = nn.Linear(d_model, d_model)\n",
        "        self.iv = nn.Linear(d_model, d_model)\n",
        "        self.scale = d_qk**0.5\n",
        "        self.out = nn.Linear(d_model, d_model)\n",
        "        \n",
        "    def forward(self, x, mask=None):\n",
        "        bs, seq_len, d = x.size()\n",
        "        mask = ifnone(mask, 0)\n",
        "        k = self.ik(x).view(bs, seq_len, self.n_heads, d//self.n_heads).transpose(1, 2)\n",
        "        q = self.iq(x).view(bs, seq_len, self.n_heads, d//self.n_heads).transpose(1, 2)\n",
        "        v = self.iv(x).view(bs, seq_len, self.n_heads, d//self.n_heads).transpose(1, 2)\n",
        "        att = F.softmax(q@k.transpose(-2,-1)/self.scale + mask, -1)\n",
        "        \n",
        "        out = att @ v # (bs, nh, sl, sl) x (bs, nh, sl, dh) -> (bs, nh, sl, dh)\n",
        "        out = out.transpose(1, 2).contiguous().view(bs, seq_len, d) # back to original shape\n",
        "\n",
        "        return self.out(out)"
      ],
      "execution_count": null,
      "outputs": []
    },
    {
      "cell_type": "code",
      "metadata": {
        "id": "pg0PGUcwYhwR"
      },
      "source": [
        "class Model4(Module):\n",
        "    def __init__(self, vocab_sz, d_model=64, n_heads=8, d_ff=64*4):\n",
        "        self.emb = TransformerEmbedding(vocab_sz, d_model)\n",
        "        self.attn = MultiHeadAttention(d_model, n_heads)\n",
        "        self.ff = FeedForward(d_model, d_ff)\n",
        "        self.out = nn.Linear(d_model, vocab_sz)\n",
        "    def forward(self, x):\n",
        "        x = self.emb(x)\n",
        "        mask = get_subsequent_mask(x)\n",
        "        x = self.ff(self.attn(x, mask))\n",
        "        return self.out(x)"
      ],
      "execution_count": null,
      "outputs": []
    },
    {
      "cell_type": "code",
      "metadata": {
        "id": "K5J_GgiAYhwU",
        "outputId": "27638523-e418-4fbc-fc6d-f7cdcd4458ca"
      },
      "source": [
        "learn = Learner(dls, Model4(len(vocab)), loss_func=loss_func, metrics=accuracy)\n",
        "learn.fit_one_cycle(5, 3e-3)"
      ],
      "execution_count": null,
      "outputs": [
        {
          "output_type": "display_data",
          "data": {
            "text/html": [
              "<table border=\"1\" class=\"dataframe\">\n",
              "  <thead>\n",
              "    <tr style=\"text-align: left;\">\n",
              "      <th>epoch</th>\n",
              "      <th>train_loss</th>\n",
              "      <th>valid_loss</th>\n",
              "      <th>accuracy</th>\n",
              "      <th>time</th>\n",
              "    </tr>\n",
              "  </thead>\n",
              "  <tbody>\n",
              "    <tr>\n",
              "      <td>0</td>\n",
              "      <td>3.129320</td>\n",
              "      <td>2.853039</td>\n",
              "      <td>0.142497</td>\n",
              "      <td>00:01</td>\n",
              "    </tr>\n",
              "    <tr>\n",
              "      <td>1</td>\n",
              "      <td>2.817813</td>\n",
              "      <td>2.497936</td>\n",
              "      <td>0.241374</td>\n",
              "      <td>00:00</td>\n",
              "    </tr>\n",
              "    <tr>\n",
              "      <td>2</td>\n",
              "      <td>2.177413</td>\n",
              "      <td>1.822177</td>\n",
              "      <td>0.431234</td>\n",
              "      <td>00:00</td>\n",
              "    </tr>\n",
              "    <tr>\n",
              "      <td>3</td>\n",
              "      <td>1.771515</td>\n",
              "      <td>1.849530</td>\n",
              "      <td>0.394938</td>\n",
              "      <td>00:00</td>\n",
              "    </tr>\n",
              "    <tr>\n",
              "      <td>4</td>\n",
              "      <td>1.591972</td>\n",
              "      <td>1.817620</td>\n",
              "      <td>0.375895</td>\n",
              "      <td>00:00</td>\n",
              "    </tr>\n",
              "    <tr>\n",
              "      <td>5</td>\n",
              "      <td>1.510942</td>\n",
              "      <td>1.875521</td>\n",
              "      <td>0.334717</td>\n",
              "      <td>00:00</td>\n",
              "    </tr>\n",
              "    <tr>\n",
              "      <td>6</td>\n",
              "      <td>1.459658</td>\n",
              "      <td>1.882601</td>\n",
              "      <td>0.387126</td>\n",
              "      <td>00:00</td>\n",
              "    </tr>\n",
              "    <tr>\n",
              "      <td>7</td>\n",
              "      <td>1.425628</td>\n",
              "      <td>1.865636</td>\n",
              "      <td>0.407959</td>\n",
              "      <td>00:00</td>\n",
              "    </tr>\n",
              "    <tr>\n",
              "      <td>8</td>\n",
              "      <td>1.406187</td>\n",
              "      <td>1.890635</td>\n",
              "      <td>0.408610</td>\n",
              "      <td>00:01</td>\n",
              "    </tr>\n",
              "    <tr>\n",
              "      <td>9</td>\n",
              "      <td>1.396117</td>\n",
              "      <td>1.873219</td>\n",
              "      <td>0.409831</td>\n",
              "      <td>00:00</td>\n",
              "    </tr>\n",
              "  </tbody>\n",
              "</table>"
            ],
            "text/plain": [
              "<IPython.core.display.HTML object>"
            ]
          },
          "metadata": {
            "tags": []
          }
        }
      ]
    },
    {
      "cell_type": "markdown",
      "metadata": {
        "id": "ccj-BCu7YhwX"
      },
      "source": [
        "Now we get somewhat lower accuracy, which is expected given that the task has become more difficult. Also training loss is significantly lower than validation loss, which means the model is overfitting. Let's see if the same approaches as was taken to RNNs can help."
      ]
    },
    {
      "cell_type": "markdown",
      "metadata": {
        "id": "h85PFqu7YhwX"
      },
      "source": [
        "#### Multilayer transformer"
      ]
    },
    {
      "cell_type": "markdown",
      "metadata": {
        "id": "JON53-EyYhwY"
      },
      "source": [
        "To solve a more difficult task we ussualy need a deeper model. For convenience let's make a TransformerLayer which will combine self-attention and feed-forward blocks."
      ]
    },
    {
      "cell_type": "code",
      "metadata": {
        "id": "CWwi_PYfYhwY"
      },
      "source": [
        "class TransformerLayer(Module):\n",
        "    def __init__(self, d_model, n_heads=8, d_ff=None, causal=True):\n",
        "        d_ff = ifnone(d_ff, 4*d_model)\n",
        "        self.attn = MultiHeadAttention(d_model, n_heads)\n",
        "        self.ff = FeedForward(d_model, d_ff)\n",
        "        self.causal = causal\n",
        "    def forward(self, x, mask=None):\n",
        "        if self.causal:\n",
        "            mask = get_subsequent_mask(x)\n",
        "        return self.ff(self.attn(x, mask))"
      ],
      "execution_count": null,
      "outputs": []
    },
    {
      "cell_type": "code",
      "metadata": {
        "id": "sspERrjlYhwc"
      },
      "source": [
        "class Model5(Module):\n",
        "    def __init__(self, vocab_sz, d_model=64, n_layer=4, n_heads=8):\n",
        "        self.emb = TransformerEmbedding(vocab_sz, d_model)\n",
        "        self.tfmr = nn.Sequential(*[TransformerLayer(d_model, n_heads) for _ in range(n_layer)])\n",
        "        self.out = nn.Linear(d_model, vocab_sz)\n",
        "    def forward(self, x):\n",
        "        x = self.emb(x)\n",
        "        x = self.tfmr(x)\n",
        "        return self.out(x)"
      ],
      "execution_count": null,
      "outputs": []
    },
    {
      "cell_type": "code",
      "metadata": {
        "id": "j_01PScwYhwe",
        "outputId": "0620e2dc-10b3-4acf-9637-45f2b716e1b2"
      },
      "source": [
        "learn = Learner(dls, Model5(len(vocab), n_layer=4), loss_func=loss_func, metrics=accuracy)\n",
        "learn.fit_one_cycle(5, 1e-2)"
      ],
      "execution_count": null,
      "outputs": [
        {
          "output_type": "display_data",
          "data": {
            "text/html": [
              "<table border=\"1\" class=\"dataframe\">\n",
              "  <thead>\n",
              "    <tr style=\"text-align: left;\">\n",
              "      <th>epoch</th>\n",
              "      <th>train_loss</th>\n",
              "      <th>valid_loss</th>\n",
              "      <th>accuracy</th>\n",
              "      <th>time</th>\n",
              "    </tr>\n",
              "  </thead>\n",
              "  <tbody>\n",
              "    <tr>\n",
              "      <td>0</td>\n",
              "      <td>2.896508</td>\n",
              "      <td>2.770022</td>\n",
              "      <td>0.151774</td>\n",
              "      <td>00:02</td>\n",
              "    </tr>\n",
              "    <tr>\n",
              "      <td>1</td>\n",
              "      <td>2.791184</td>\n",
              "      <td>2.786991</td>\n",
              "      <td>0.151937</td>\n",
              "      <td>00:01</td>\n",
              "    </tr>\n",
              "    <tr>\n",
              "      <td>2</td>\n",
              "      <td>2.764605</td>\n",
              "      <td>2.786063</td>\n",
              "      <td>0.152018</td>\n",
              "      <td>00:02</td>\n",
              "    </tr>\n",
              "    <tr>\n",
              "      <td>3</td>\n",
              "      <td>2.753655</td>\n",
              "      <td>2.813671</td>\n",
              "      <td>0.151937</td>\n",
              "      <td>00:02</td>\n",
              "    </tr>\n",
              "    <tr>\n",
              "      <td>4</td>\n",
              "      <td>2.748509</td>\n",
              "      <td>2.806697</td>\n",
              "      <td>0.151611</td>\n",
              "      <td>00:02</td>\n",
              "    </tr>\n",
              "  </tbody>\n",
              "</table>"
            ],
            "text/plain": [
              "<IPython.core.display.HTML object>"
            ]
          },
          "metadata": {
            "tags": []
          }
        }
      ]
    },
    {
      "cell_type": "markdown",
      "metadata": {
        "id": "urkF3awxYhwh"
      },
      "source": [
        "That is not good 4 layer deep Transformer strugles to learn anything. But there are good news, this problem has been already resolved in the original transformer."
      ]
    },
    {
      "cell_type": "markdown",
      "metadata": {
        "id": "tX0T8zM2Yhwh"
      },
      "source": [
        "### Residual connections and Regularization"
      ]
    },
    {
      "cell_type": "markdown",
      "metadata": {
        "id": "bT9zcxQoYhwi"
      },
      "source": [
        "If you are familiar with ResNets the proposed solution will not surprise you much. The idea is simple yet very effective. Instead of returning modified output $f(x)$ each transformer sublayer will return $x + f(x)$. Thishow to produce  allows the original input to propagate freely through the model. So the model learns not an entirely new representation of $x$ but how to modify $x$ to add some useful information to the original representation.\n",
        "\n",
        "As we modify layers to include the residual connections let's also add some regularization by inserting Dropout layers."
      ]
    },
    {
      "cell_type": "code",
      "metadata": {
        "id": "blCFVq59Yhwi"
      },
      "source": [
        "class TransformerEmbedding(Module):\n",
        "    def __init__(self, emb_sz, d_model, p=0.1):\n",
        "        self.emb = nn.Embedding(emb_sz, d_model)\n",
        "        self.pos_enc = PositionalEncoding(d_model)\n",
        "        self.drop = nn.Dropout(p)\n",
        "    def forward(self, x):\n",
        "        return self.drop(self.pos_enc(self.emb(x)))"
      ],
      "execution_count": null,
      "outputs": []
    },
    {
      "cell_type": "markdown",
      "metadata": {
        "id": "JfrOyTKjYhwl"
      },
      "source": [
        "Another modification is to add layer normalization which is intended to improve learning dynamics of the network by reparametrising data statistics and is generally used in transformer based architectures."
      ]
    },
    {
      "cell_type": "code",
      "metadata": {
        "id": "dC3ZuJ7lYhwm"
      },
      "source": [
        "class FeedForward(Module):\n",
        "    def __init__(self, d_model, d_ff, p=0.2):\n",
        "        self.lin1 = nn.Linear(d_model, d_ff)\n",
        "        self.lin2 = nn.Linear(d_ff, d_model)\n",
        "        self.act = nn.ReLU()\n",
        "        self.norm = nn.LayerNorm(d_model)\n",
        "        self.drop = nn.Dropout(p)\n",
        "    def forward(self, x):\n",
        "        x = self.norm(x)\n",
        "        out = self.act(self.lin1(x))\n",
        "        out = self.lin2(out)\n",
        "        return x + self.drop(out)"
      ],
      "execution_count": null,
      "outputs": []
    },
    {
      "cell_type": "code",
      "metadata": {
        "id": "D0t9MeALYhwp"
      },
      "source": [
        "class MultiHeadAttention(Module):\n",
        "    def __init__(self, d_model, n_heads, p=0.1):\n",
        "        assert d_model%n_heads == 0\n",
        "        self.n_heads = n_heads\n",
        "        d_qk, d_v = d_model//n_heads, d_model//n_heads\n",
        "        self.iq = nn.Linear(d_model, d_model)\n",
        "        self.ik = nn.Linear(d_model, d_model)\n",
        "        self.iv = nn.Linear(d_model, d_model)\n",
        "        self.scale = d_qk**0.5\n",
        "        self.out = nn.Linear(d_model, d_model)\n",
        "        self.norm = nn.LayerNorm(d_model)\n",
        "        self.drop = nn.Dropout(p)\n",
        "    def forward(self, x, mask=None):\n",
        "        bs, seq_len, d = x.size()\n",
        "        mask = ifnone(mask, 0)\n",
        "        x = self.norm(x)\n",
        "        k = self.ik(x).view(bs, seq_len, self.n_heads, d//self.n_heads).transpose(1, 2)\n",
        "        q = self.iq(x).view(bs, seq_len, self.n_heads, d//self.n_heads).transpose(1, 2)\n",
        "        v = self.iv(x).view(bs, seq_len, self.n_heads, d//self.n_heads).transpose(1, 2)\n",
        "        att = F.softmax(q@k.transpose(-2,-1)/self.scale + mask, -1)\n",
        "        \n",
        "        out = att @ v # (bs, nh, sl, sl) x (bs, nh, sl, dh) -> (bs, nh, sl, dh)\n",
        "        out = out.transpose(1, 2).contiguous().view(bs, seq_len, d) # back to original shape\n",
        "\n",
        "        return x + self.drop(self.out(out))"
      ],
      "execution_count": null,
      "outputs": []
    },
    {
      "cell_type": "code",
      "metadata": {
        "id": "B3FkBTm9Yhwu"
      },
      "source": [
        "class TransformerLayer(Module):\n",
        "    def __init__(self, d_model, n_heads=8, d_ff=None, causal=True,\n",
        "                 p_att=0.1, p_ff=0.1):\n",
        "        d_ff = ifnone(d_ff, 4*d_model)\n",
        "        self.attn = MultiHeadAttention(d_model, n_heads)\n",
        "        self.ff = FeedForward(d_model, d_ff, p=p_ff)\n",
        "        self.causal = causal\n",
        "    def forward(self, x, mask=None):\n",
        "        if self.causal:\n",
        "            mask = get_subsequent_mask(x)\n",
        "        return self.ff(self.attn(x, mask))"
      ],
      "execution_count": null,
      "outputs": []
    },
    {
      "cell_type": "code",
      "metadata": {
        "id": "erFIZd3eYhww"
      },
      "source": [
        "class Model6(Module):\n",
        "    def __init__(self, vocab_sz, d_model=64, n_layer=4, n_heads=8, \n",
        "                 p_emb=0.1, p_att=0.1, p_ff=0.2):\n",
        "        self.emb = TransformerEmbedding(vocab_sz, d_model, p=p_emb)\n",
        "        self.tfmr = nn.Sequential(*[TransformerLayer(d_model, n_heads,\n",
        "                                                     p_att=p_att, p_ff=p_ff)\n",
        "                                    for _ in range(n_layer)])\n",
        "        self.out = nn.Linear(d_model, vocab_sz)\n",
        "    def forward(self, x):\n",
        "        x = self.emb(x)\n",
        "        x = self.tfmr(x)\n",
        "        return self.out(x)"
      ],
      "execution_count": null,
      "outputs": []
    },
    {
      "cell_type": "code",
      "metadata": {
        "id": "CYIO7Ax9Yhwz",
        "outputId": "891dc3da-2464-47a1-97ed-ed50184b2700"
      },
      "source": [
        "learn = Learner(dls, Model6(len(vocab), n_layer=2), loss_func=loss_func, metrics=accuracy)\n",
        "learn.fit_one_cycle(10, 1e-2)"
      ],
      "execution_count": null,
      "outputs": [
        {
          "output_type": "display_data",
          "data": {
            "text/html": [
              "<table border=\"1\" class=\"dataframe\">\n",
              "  <thead>\n",
              "    <tr style=\"text-align: left;\">\n",
              "      <th>epoch</th>\n",
              "      <th>train_loss</th>\n",
              "      <th>valid_loss</th>\n",
              "      <th>accuracy</th>\n",
              "      <th>time</th>\n",
              "    </tr>\n",
              "  </thead>\n",
              "  <tbody>\n",
              "    <tr>\n",
              "      <td>0</td>\n",
              "      <td>2.813592</td>\n",
              "      <td>2.619886</td>\n",
              "      <td>0.112874</td>\n",
              "      <td>00:01</td>\n",
              "    </tr>\n",
              "    <tr>\n",
              "      <td>1</td>\n",
              "      <td>2.143356</td>\n",
              "      <td>1.601458</td>\n",
              "      <td>0.451986</td>\n",
              "      <td>00:01</td>\n",
              "    </tr>\n",
              "    <tr>\n",
              "      <td>2</td>\n",
              "      <td>1.718504</td>\n",
              "      <td>1.667646</td>\n",
              "      <td>0.456217</td>\n",
              "      <td>00:01</td>\n",
              "    </tr>\n",
              "    <tr>\n",
              "      <td>3</td>\n",
              "      <td>1.364230</td>\n",
              "      <td>0.986376</td>\n",
              "      <td>0.673991</td>\n",
              "      <td>00:01</td>\n",
              "    </tr>\n",
              "    <tr>\n",
              "      <td>4</td>\n",
              "      <td>1.021568</td>\n",
              "      <td>0.807140</td>\n",
              "      <td>0.765462</td>\n",
              "      <td>00:01</td>\n",
              "    </tr>\n",
              "    <tr>\n",
              "      <td>5</td>\n",
              "      <td>0.793330</td>\n",
              "      <td>0.725030</td>\n",
              "      <td>0.775553</td>\n",
              "      <td>00:01</td>\n",
              "    </tr>\n",
              "    <tr>\n",
              "      <td>6</td>\n",
              "      <td>0.672081</td>\n",
              "      <td>0.741638</td>\n",
              "      <td>0.766683</td>\n",
              "      <td>00:01</td>\n",
              "    </tr>\n",
              "    <tr>\n",
              "      <td>7</td>\n",
              "      <td>0.610938</td>\n",
              "      <td>0.787549</td>\n",
              "      <td>0.743001</td>\n",
              "      <td>00:01</td>\n",
              "    </tr>\n",
              "    <tr>\n",
              "      <td>8</td>\n",
              "      <td>0.579836</td>\n",
              "      <td>0.747094</td>\n",
              "      <td>0.755371</td>\n",
              "      <td>00:01</td>\n",
              "    </tr>\n",
              "    <tr>\n",
              "      <td>9</td>\n",
              "      <td>0.562835</td>\n",
              "      <td>0.758436</td>\n",
              "      <td>0.744873</td>\n",
              "      <td>00:01</td>\n",
              "    </tr>\n",
              "  </tbody>\n",
              "</table>"
            ],
            "text/plain": [
              "<IPython.core.display.HTML object>"
            ]
          },
          "metadata": {
            "tags": []
          }
        }
      ]
    },
    {
      "cell_type": "code",
      "metadata": {
        "id": "XV7zOfG9Yhw2"
      },
      "source": [
        ""
      ],
      "execution_count": null,
      "outputs": []
    }
  ]
}