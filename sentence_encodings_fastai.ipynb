{
  "nbformat": 4,
  "nbformat_minor": 0,
  "metadata": {
    "colab": {
      "name": "sentence_encodings_fastai.ipynb",
      "provenance": [],
      "collapsed_sections": [],
      "authorship_tag": "ABX9TyO9gdkyKdLBp9QdufG8HRod",
      "include_colab_link": true
    },
    "kernelspec": {
      "name": "python3",
      "display_name": "Python 3"
    },
    "accelerator": "GPU"
  },
  "cells": [
    {
      "cell_type": "markdown",
      "metadata": {
        "id": "view-in-github",
        "colab_type": "text"
      },
      "source": [
        "<a href=\"https://colab.research.google.com/github/arampacha/fastai_nbs/blob/main/sentence_encodings_fastai.ipynb\" target=\"_parent\"><img src=\"https://colab.research.google.com/assets/colab-badge.svg\" alt=\"Open In Colab\"/></a>"
      ]
    },
    {
      "cell_type": "code",
      "metadata": {
        "id": "-M6sv99g6Csy",
        "outputId": "64eb5696-1234-44d7-a1ca-1ca4f5352e05",
        "colab": {
          "base_uri": "https://localhost:8080/",
          "height": 55
        }
      },
      "source": [
        "!pip install -Uqq fastai"
      ],
      "execution_count": 1,
      "outputs": [
        {
          "output_type": "stream",
          "text": [
            "\u001b[K     |████████████████████████████████| 194kB 8.4MB/s \n",
            "\u001b[K     |████████████████████████████████| 51kB 7.2MB/s \n",
            "\u001b[?25h"
          ],
          "name": "stdout"
        }
      ]
    },
    {
      "cell_type": "code",
      "metadata": {
        "id": "9Bp6emXo6NCG"
      },
      "source": [
        "from fastai.text.all import *"
      ],
      "execution_count": 2,
      "outputs": []
    },
    {
      "cell_type": "code",
      "metadata": {
        "id": "kzMZIXHh0Icq"
      },
      "source": [
        "from sklearn.manifold import TSNE\n",
        "from sklearn.decomposition import TruncatedSVD, PCA\n",
        "from sklearn.preprocessing import StandardScaler\n",
        "\n",
        "from itertools import combinations"
      ],
      "execution_count": 3,
      "outputs": []
    },
    {
      "cell_type": "code",
      "metadata": {
        "id": "OVtKinHL1LXW",
        "outputId": "18379af5-a2d8-4f58-d955-6fac7d766551",
        "colab": {
          "base_uri": "https://localhost:8080/",
          "height": 36
        }
      },
      "source": [
        "plt.set_cmap('Set1');"
      ],
      "execution_count": 4,
      "outputs": [
        {
          "output_type": "display_data",
          "data": {
            "text/plain": [
              "<Figure size 432x288 with 0 Axes>"
            ]
          },
          "metadata": {
            "tags": []
          }
        }
      ]
    },
    {
      "cell_type": "markdown",
      "metadata": {
        "id": "aMJki7R30XDx"
      },
      "source": [
        "## Data"
      ]
    },
    {
      "cell_type": "code",
      "metadata": {
        "id": "sA2oJmZy6R5v",
        "outputId": "fa19bb51-36b0-4b9d-d234-4982a2ff0e10",
        "colab": {
          "base_uri": "https://localhost:8080/",
          "height": 227
        }
      },
      "source": [
        "!wget https://archive.ics.uci.edu/ml/machine-learning-databases/00359/NewsAggregatorDataset.zip"
      ],
      "execution_count": 5,
      "outputs": [
        {
          "output_type": "stream",
          "text": [
            "--2020-10-25 22:27:21--  https://archive.ics.uci.edu/ml/machine-learning-databases/00359/NewsAggregatorDataset.zip\n",
            "Resolving archive.ics.uci.edu (archive.ics.uci.edu)... 128.195.10.252\n",
            "Connecting to archive.ics.uci.edu (archive.ics.uci.edu)|128.195.10.252|:443... connected.\n",
            "HTTP request sent, awaiting response... 200 OK\n",
            "Length: 29224203 (28M) [application/x-httpd-php]\n",
            "Saving to: ‘NewsAggregatorDataset.zip’\n",
            "\n",
            "NewsAggregatorDatas 100%[===================>]  27.87M  25.2MB/s    in 1.1s    \n",
            "\n",
            "2020-10-25 22:27:23 (25.2 MB/s) - ‘NewsAggregatorDataset.zip’ saved [29224203/29224203]\n",
            "\n"
          ],
          "name": "stdout"
        }
      ]
    },
    {
      "cell_type": "code",
      "metadata": {
        "id": "6My2GDiI6WF8"
      },
      "source": [
        "path = Path('./data')\n",
        "if not path.exists(): \n",
        "    path.mkdir()"
      ],
      "execution_count": 6,
      "outputs": []
    },
    {
      "cell_type": "code",
      "metadata": {
        "id": "w5qi6bol6Z7d"
      },
      "source": [
        "import zipfile\n",
        "with zipfile.ZipFile('/content/NewsAggregatorDataset.zip') as f:\n",
        "    f.extractall(path)"
      ],
      "execution_count": 7,
      "outputs": []
    },
    {
      "cell_type": "code",
      "metadata": {
        "id": "mDYZJVX06hxL"
      },
      "source": [
        "df = pd.read_csv('./data/newsCorpora.csv', sep='\\t', names=['id','title', 'url', 'publisher', 'category', 'story', 'hostname', 'timestamp'])\n",
        "df = df[['title', 'category']]\n",
        "catmap = {\n",
        "    'e':'Entertainment',\n",
        "    'b':'Business',\n",
        "    't':'Science',\n",
        "    'm':'Health'\n",
        "}\n",
        "\n",
        "def update_cat(x):\n",
        "    return catmap[x]\n",
        "\n",
        "df['category'] = df['category'].apply(lambda x: update_cat(x))"
      ],
      "execution_count": 8,
      "outputs": []
    },
    {
      "cell_type": "code",
      "metadata": {
        "id": "w_ItImUK7us0",
        "outputId": "1ae7f9de-65ea-4328-b460-02e6156b61d2",
        "colab": {
          "base_uri": "https://localhost:8080/",
          "height": 122
        }
      },
      "source": [
        "df.head(2)"
      ],
      "execution_count": 9,
      "outputs": [
        {
          "output_type": "execute_result",
          "data": {
            "text/html": [
              "<div>\n",
              "<style scoped>\n",
              "    .dataframe tbody tr th:only-of-type {\n",
              "        vertical-align: middle;\n",
              "    }\n",
              "\n",
              "    .dataframe tbody tr th {\n",
              "        vertical-align: top;\n",
              "    }\n",
              "\n",
              "    .dataframe thead th {\n",
              "        text-align: right;\n",
              "    }\n",
              "</style>\n",
              "<table border=\"1\" class=\"dataframe\">\n",
              "  <thead>\n",
              "    <tr style=\"text-align: right;\">\n",
              "      <th></th>\n",
              "      <th>title</th>\n",
              "      <th>category</th>\n",
              "    </tr>\n",
              "  </thead>\n",
              "  <tbody>\n",
              "    <tr>\n",
              "      <th>0</th>\n",
              "      <td>Fed official says weak data caused by weather, should not slow taper</td>\n",
              "      <td>Business</td>\n",
              "    </tr>\n",
              "    <tr>\n",
              "      <th>1</th>\n",
              "      <td>Fed's Charles Plosser sees high bar for change in pace of tapering</td>\n",
              "      <td>Business</td>\n",
              "    </tr>\n",
              "  </tbody>\n",
              "</table>\n",
              "</div>"
            ],
            "text/plain": [
              "                                                                  title  category\n",
              "0  Fed official says weak data caused by weather, should not slow taper  Business\n",
              "1    Fed's Charles Plosser sees high bar for change in pace of tapering  Business"
            ]
          },
          "metadata": {
            "tags": []
          },
          "execution_count": 9
        }
      ]
    },
    {
      "cell_type": "code",
      "metadata": {
        "id": "9aYlK8mcl93G",
        "outputId": "b76cd0ea-97f6-4bb8-8eac-ab2452b694de",
        "colab": {
          "base_uri": "https://localhost:8080/",
          "height": 189
        }
      },
      "source": [
        "length = df.title.str.split()\n",
        "length = length.map(len)\n",
        "length.describe()"
      ],
      "execution_count": 10,
      "outputs": [
        {
          "output_type": "execute_result",
          "data": {
            "text/plain": [
              "count    422419.000000\n",
              "mean          9.257413\n",
              "std           6.431410\n",
              "min           1.000000\n",
              "25%           7.000000\n",
              "50%           9.000000\n",
              "75%          11.000000\n",
              "max        2045.000000\n",
              "Name: title, dtype: float64"
            ]
          },
          "metadata": {
            "tags": []
          },
          "execution_count": 10
        }
      ]
    },
    {
      "cell_type": "code",
      "metadata": {
        "id": "Lom6VXMMItHD",
        "outputId": "b5fbd015-5698-43da-bace-ee27fef36daf",
        "colab": {
          "base_uri": "https://localhost:8080/",
          "height": 265
        }
      },
      "source": [
        "length[length <=20].hist(bins=10);"
      ],
      "execution_count": 11,
      "outputs": [
        {
          "output_type": "display_data",
          "data": {
            "image/png": "[encoded data removed]",
            "text/plain": [
              "<Figure size 432x288 with 1 Axes>"
            ]
          },
          "metadata": {
            "tags": [],
            "needs_background": "light"
          }
        }
      ]
    },
    {
      "cell_type": "code",
      "metadata": {
        "id": "IlKNUv1l16YA"
      },
      "source": [
        "df = df[length <= 20]\n",
        "df['title'] = df.title.str.lower()"
      ],
      "execution_count": 12,
      "outputs": []
    },
    {
      "cell_type": "markdown",
      "metadata": {
        "id": "agePmdI_IpOb"
      },
      "source": [
        "Using subset of data to speed up things."
      ]
    },
    {
      "cell_type": "code",
      "metadata": {
        "id": "aD7UxswhIoqw"
      },
      "source": [
        "titles = df.sample(100000).reset_index(drop=True)"
      ],
      "execution_count": 13,
      "outputs": []
    },
    {
      "cell_type": "markdown",
      "metadata": {
        "id": "wAX0eM49H2QB"
      },
      "source": [
        "There might be some rare words which can be in original model vocab, so `min_freq=1`. Not sure it's reasonable, though"
      ]
    },
    {
      "cell_type": "code",
      "metadata": {
        "id": "FIwCDkxK6rlx"
      },
      "source": [
        "dblock = DataBlock(blocks=(TextBlock.from_df('title', min_freq=1, n_workers=4, res_col_name='title'), \n",
        "                           CategoryBlock),\n",
        "                   get_x = ColReader('title'), \n",
        "                   get_y = ColReader('category'),\n",
        "                   splitter = RandomSplitter(0.5))"
      ],
      "execution_count": 14,
      "outputs": []
    },
    {
      "cell_type": "code",
      "metadata": {
        "id": "TtjYdSS88Is-",
        "outputId": "8d65efed-1230-4481-986c-537f2ad5d5cd",
        "colab": {
          "base_uri": "https://localhost:8080/",
          "height": 55
        }
      },
      "source": [
        "%%time\n",
        "dls = dblock.dataloaders(titles, bs=128, n_workers=4)"
      ],
      "execution_count": 15,
      "outputs": [
        {
          "output_type": "display_data",
          "data": {
            "text/html": [
              ""
            ],
            "text/plain": [
              "<IPython.core.display.HTML object>"
            ]
          },
          "metadata": {
            "tags": []
          }
        },
        {
          "output_type": "stream",
          "text": [
            "CPU times: user 1min 38s, sys: 2.08 s, total: 1min 40s\n",
            "Wall time: 2min 4s\n"
          ],
          "name": "stdout"
        }
      ]
    },
    {
      "cell_type": "code",
      "metadata": {
        "id": "SWQOd2dXHaeJ",
        "outputId": "93c25591-896f-4d98-bc9a-fe3f356ac455",
        "colab": {
          "base_uri": "https://localhost:8080/",
          "height": 225
        }
      },
      "source": [
        "dls.show_batch(max_n=5)"
      ],
      "execution_count": 16,
      "outputs": [
        {
          "output_type": "display_data",
          "data": {
            "text/html": [
              "<table border=\"1\" class=\"dataframe\">\n",
              "  <thead>\n",
              "    <tr style=\"text-align: right;\">\n",
              "      <th></th>\n",
              "      <th>text</th>\n",
              "      <th>category</th>\n",
              "    </tr>\n",
              "  </thead>\n",
              "  <tbody>\n",
              "    <tr>\n",
              "      <th>0</th>\n",
              "      <td>xxbos it 's a bird ! it 's a plane ! no , it 's jada pinkett smith on the cover of net - a - porter 's …</td>\n",
              "      <td>Entertainment</td>\n",
              "    </tr>\n",
              "    <tr>\n",
              "      <th>1</th>\n",
              "      <td>xxbos weekend movies &amp; tv : ' rio 2 , ' ' draft day , ' ' mad men , ' &amp; more ( video ) xxpad xxpad xxpad</td>\n",
              "      <td>Entertainment</td>\n",
              "    </tr>\n",
              "    <tr>\n",
              "      <th>2</th>\n",
              "      <td>xxbos ' i 'll f xxrep 3 * you up ' shia labeouf threatens cops on arrest &amp; ' given mask to stop spitting ' xxpad xxpad xxpad xxpad</td>\n",
              "      <td>Entertainment</td>\n",
              "    </tr>\n",
              "    <tr>\n",
              "      <th>3</th>\n",
              "      <td>xxbos ' x - men ' atop memorial day holiday opener bests ' godzilla ' with $ xxrep 3 1 m box office … xxpad xxpad xxpad xxpad xxpad</td>\n",
              "      <td>Entertainment</td>\n",
              "    </tr>\n",
              "    <tr>\n",
              "      <th>4</th>\n",
              "      <td>xxbos 10 things you need to know this morning ( dia , spy , xxrep 3 q , mcd , yum , t … xxpad xxpad xxpad xxpad xxpad</td>\n",
              "      <td>Business</td>\n",
              "    </tr>\n",
              "  </tbody>\n",
              "</table>"
            ],
            "text/plain": [
              "<IPython.core.display.HTML object>"
            ]
          },
          "metadata": {
            "tags": []
          }
        }
      ]
    },
    {
      "cell_type": "code",
      "metadata": {
        "id": "pnR0FK-7GqqC",
        "outputId": "d4d8316c-504a-4fc9-95fd-edae01e0746d",
        "colab": {
          "base_uri": "https://localhost:8080/",
          "height": 17
        }
      },
      "source": [
        "learn = text_classifier_learner(dls, AWD_LSTM, drop_mult=0.5, metrics=accuracy)#.to_fp16()"
      ],
      "execution_count": 17,
      "outputs": [
        {
          "output_type": "display_data",
          "data": {
            "text/html": [
              ""
            ],
            "text/plain": [
              "<IPython.core.display.HTML object>"
            ]
          },
          "metadata": {
            "tags": []
          }
        }
      ]
    },
    {
      "cell_type": "markdown",
      "metadata": {
        "id": "L4re3LSf0zXe"
      },
      "source": [
        "## Sentence embeddings without finetuning"
      ]
    },
    {
      "cell_type": "markdown",
      "metadata": {
        "id": "Dh-EFbdkGJOr"
      },
      "source": [
        "Following functions are factored parts of `masked_concat_pool` function used in standard classifier head in ULMFiT"
      ]
    },
    {
      "cell_type": "code",
      "metadata": {
        "id": "fzXrOEd0QdQg"
      },
      "source": [
        "def masked_max_pool(output, mask, bptt):\n",
        "    return output.masked_fill(mask[:,:,None], -float('inf')).max(dim=1)[0]\n",
        "\n",
        "def last_hdn_pool(output, mask, bptt):\n",
        "    last_lens = mask[:,-bptt:].long().sum(dim=1)\n",
        "    return output[torch.arange(0, output.size(0)),-last_lens-1]\n",
        "\n",
        "def masked_avg_pool(output, mask, bptt):\n",
        "    lens = output.shape[1] - mask.long().sum(dim=1)\n",
        "    avg_pool = output.masked_fill(mask[:, :, None], 0).sum(dim=1)\n",
        "    avg_pool.div_(lens.type(avg_pool.dtype)[:,None])\n",
        "    return avg_pool"
      ],
      "execution_count": 18,
      "outputs": []
    },
    {
      "cell_type": "code",
      "metadata": {
        "id": "XAfh_LKxr_eE"
      },
      "source": [
        "_pooler = {\n",
        "    'concat': masked_concat_pool,\n",
        "    'max': masked_max_pool,\n",
        "    'last': last_hdn_pool,\n",
        "    'avg': masked_avg_pool,\n",
        "}"
      ],
      "execution_count": 19,
      "outputs": []
    },
    {
      "cell_type": "code",
      "metadata": {
        "id": "VU8Ms1gCLrSu"
      },
      "source": [
        "def get_sentence_encodings(learn, dl=None, method='max'):\n",
        "    if dl is None:\n",
        "        dl = learn.dls.valid\n",
        "    learn.model.to(dl.device)\n",
        "    learn.model.eval()\n",
        "    sentence_encoder = learn.model[0]\n",
        "    sentence_encoder.reset()\n",
        "    bptt = getattr(sentence_encoder, 'bptt')\n",
        "    encodings = []\n",
        "    y = []\n",
        "    pool = _pooler[method]\n",
        "    pbar = progress_bar(dl)\n",
        "    for b in pbar:\n",
        "        xb = b[0]\n",
        "        with torch.no_grad():\n",
        "            enc, mask = sentence_encoder(xb)\n",
        "        encodings.append(pool(enc, mask, bptt))\n",
        "        if len(b)==2: y.append(b[1])\n",
        "    if y:\n",
        "        return torch.cat(encodings), torch.cat(y)\n",
        "    else:\n",
        "        return torch.cat(encodings), None"
      ],
      "execution_count": 20,
      "outputs": []
    },
    {
      "cell_type": "code",
      "metadata": {
        "id": "W-N02HouMT1r",
        "outputId": "38f108f2-f94e-4192-abbb-b7010e8c6a5f",
        "colab": {
          "base_uri": "https://localhost:8080/",
          "height": 38
        }
      },
      "source": [
        "encodings, y = get_sentence_encodings(learn)"
      ],
      "execution_count": 21,
      "outputs": [
        {
          "output_type": "display_data",
          "data": {
            "text/html": [
              "\n",
              "    <div>\n",
              "        <style>\n",
              "            /* Turns off some styling */\n",
              "            progress {\n",
              "                /* gets rid of default border in Firefox and Opera. */\n",
              "                border: none;\n",
              "                /* Needs to be in here for Safari polyfill so background images work as expected. */\n",
              "                background-size: auto;\n",
              "            }\n",
              "            .progress-bar-interrupted, .progress-bar-interrupted::-webkit-progress-bar {\n",
              "                background: #F44336;\n",
              "            }\n",
              "        </style>\n",
              "      <progress value='391' class='' max='391' style='width:300px; height:20px; vertical-align: middle;'></progress>\n",
              "      100.00% [391/391 00:53<00:00]\n",
              "    </div>\n",
              "    "
            ],
            "text/plain": [
              "<IPython.core.display.HTML object>"
            ]
          },
          "metadata": {
            "tags": []
          }
        }
      ]
    },
    {
      "cell_type": "code",
      "metadata": {
        "id": "5kIUMydvOc0v"
      },
      "source": [
        "def to_np(t):\n",
        "    return t.detach().cpu().numpy()"
      ],
      "execution_count": 22,
      "outputs": []
    },
    {
      "cell_type": "code",
      "metadata": {
        "id": "3QKD52JIN2dl",
        "outputId": "0a8a9f36-06ee-4d9f-b2c9-d8d1012e2c37",
        "colab": {
          "base_uri": "https://localhost:8080/",
          "height": 36
        }
      },
      "source": [
        "sentence_encs = to_np(encodings)\n",
        "y_np = to_np(y)\n",
        "sentence_encs.shape"
      ],
      "execution_count": 23,
      "outputs": [
        {
          "output_type": "execute_result",
          "data": {
            "text/plain": [
              "(50000, 400)"
            ]
          },
          "metadata": {
            "tags": []
          },
          "execution_count": 23
        }
      ]
    },
    {
      "cell_type": "markdown",
      "metadata": {
        "id": "gBf_AUSbNYU3"
      },
      "source": [
        "Constructing test dataloader. Here I use first 1000 elements from original dataframe, but it could be any data structured in the same way."
      ]
    },
    {
      "cell_type": "code",
      "metadata": {
        "id": "MHkEOMzgKcj5",
        "outputId": "acf10df5-c858-4db4-b5df-10ff6a51317c",
        "colab": {
          "base_uri": "https://localhost:8080/",
          "height": 225
        }
      },
      "source": [
        "test_dl = dls.test_dl(df[:1000])\n",
        "test_dl.show_batch(max_n=5)"
      ],
      "execution_count": 24,
      "outputs": [
        {
          "output_type": "display_data",
          "data": {
            "text/html": [
              "<table border=\"1\" class=\"dataframe\">\n",
              "  <thead>\n",
              "    <tr style=\"text-align: right;\">\n",
              "      <th></th>\n",
              "      <th>text</th>\n",
              "    </tr>\n",
              "  </thead>\n",
              "  <tbody>\n",
              "    <tr>\n",
              "      <th>0</th>\n",
              "      <td>xxbos watch us play titanfall for xbox one ( poorly ) right here ! ( update : and it 's over ! )</td>\n",
              "    </tr>\n",
              "    <tr>\n",
              "      <th>1</th>\n",
              "      <td>xxbos herbalife ltd . ( hlf ) news : herbalife : 4 ' need to know ' facts for this coming … xxpad</td>\n",
              "    </tr>\n",
              "    <tr>\n",
              "      <th>2</th>\n",
              "      <td>xxbos chiquita ( cqb ) and fyffes ( fy xxrep 3 f ) merge to become world 's largest banana … xxpad xxpad</td>\n",
              "    </tr>\n",
              "    <tr>\n",
              "      <th>3</th>\n",
              "      <td>xxbos forex market : eur / usd retreats from 2 - 1 / 2-year highs as stronger euro seen … xxpad xxpad xxpad</td>\n",
              "    </tr>\n",
              "    <tr>\n",
              "      <th>4</th>\n",
              "      <td>xxbos pollen and birds xxunk ? check and check . here are 5 ways to tell that spring 's … xxpad xxpad xxpad</td>\n",
              "    </tr>\n",
              "  </tbody>\n",
              "</table>"
            ],
            "text/plain": [
              "<IPython.core.display.HTML object>"
            ]
          },
          "metadata": {
            "tags": []
          }
        }
      ]
    },
    {
      "cell_type": "code",
      "metadata": {
        "id": "UOkD37vrOGRT",
        "outputId": "e3a6ff31-344e-44ed-80f2-e9a4f30b6ff1",
        "colab": {
          "base_uri": "https://localhost:8080/",
          "height": 38
        }
      },
      "source": [
        "test_encs, _ = get_sentence_encodings(learn, test_dl)"
      ],
      "execution_count": 25,
      "outputs": [
        {
          "output_type": "display_data",
          "data": {
            "text/html": [
              "\n",
              "    <div>\n",
              "        <style>\n",
              "            /* Turns off some styling */\n",
              "            progress {\n",
              "                /* gets rid of default border in Firefox and Opera. */\n",
              "                border: none;\n",
              "                /* Needs to be in here for Safari polyfill so background images work as expected. */\n",
              "                background-size: auto;\n",
              "            }\n",
              "            .progress-bar-interrupted, .progress-bar-interrupted::-webkit-progress-bar {\n",
              "                background: #F44336;\n",
              "            }\n",
              "        </style>\n",
              "      <progress value='8' class='' max='8' style='width:300px; height:20px; vertical-align: middle;'></progress>\n",
              "      100.00% [8/8 00:00<00:00]\n",
              "    </div>\n",
              "    "
            ],
            "text/plain": [
              "<IPython.core.display.HTML object>"
            ]
          },
          "metadata": {
            "tags": []
          }
        }
      ]
    },
    {
      "cell_type": "code",
      "metadata": {
        "id": "SpVuH5uDPqXG",
        "outputId": "beba0e77-cc1c-4444-e412-6aedbd93e68d",
        "colab": {
          "base_uri": "https://localhost:8080/",
          "height": 36
        }
      },
      "source": [
        "test_encs.shape"
      ],
      "execution_count": 26,
      "outputs": [
        {
          "output_type": "execute_result",
          "data": {
            "text/plain": [
              "torch.Size([1000, 400])"
            ]
          },
          "metadata": {
            "tags": []
          },
          "execution_count": 26
        }
      ]
    },
    {
      "cell_type": "code",
      "metadata": {
        "id": "w9aHHH9k4m6v"
      },
      "source": [
        "test_dl = dls.test_dl(['This is random sentence'])"
      ],
      "execution_count": 27,
      "outputs": []
    },
    {
      "cell_type": "code",
      "metadata": {
        "id": "QmfcyGmF5AfQ",
        "outputId": "1284ab00-192d-4074-cf21-5447eee77720",
        "colab": {
          "base_uri": "https://localhost:8080/",
          "height": 87
        }
      },
      "source": [
        "test_dl.show_batch()"
      ],
      "execution_count": 28,
      "outputs": [
        {
          "output_type": "display_data",
          "data": {
            "text/html": [
              "<table border=\"1\" class=\"dataframe\">\n",
              "  <thead>\n",
              "    <tr style=\"text-align: right;\">\n",
              "      <th></th>\n",
              "      <th>text</th>\n",
              "    </tr>\n",
              "  </thead>\n",
              "  <tbody>\n",
              "    <tr>\n",
              "      <th>0</th>\n",
              "      <td>xxbos xxmaj this is random sentence</td>\n",
              "    </tr>\n",
              "  </tbody>\n",
              "</table>"
            ],
            "text/plain": [
              "<IPython.core.display.HTML object>"
            ]
          },
          "metadata": {
            "tags": []
          }
        }
      ]
    },
    {
      "cell_type": "code",
      "metadata": {
        "id": "aZlF2rq75GOf",
        "outputId": "93bca3fe-bf06-44d4-cf37-53c6006e64b6",
        "colab": {
          "base_uri": "https://localhost:8080/",
          "height": 57
        }
      },
      "source": [
        "test_encs, _ = get_sentence_encodings(learn, test_dl)\n",
        "test_encs.shape"
      ],
      "execution_count": 29,
      "outputs": [
        {
          "output_type": "display_data",
          "data": {
            "text/html": [
              "\n",
              "    <div>\n",
              "        <style>\n",
              "            /* Turns off some styling */\n",
              "            progress {\n",
              "                /* gets rid of default border in Firefox and Opera. */\n",
              "                border: none;\n",
              "                /* Needs to be in here for Safari polyfill so background images work as expected. */\n",
              "                background-size: auto;\n",
              "            }\n",
              "            .progress-bar-interrupted, .progress-bar-interrupted::-webkit-progress-bar {\n",
              "                background: #F44336;\n",
              "            }\n",
              "        </style>\n",
              "      <progress value='1' class='' max='1' style='width:300px; height:20px; vertical-align: middle;'></progress>\n",
              "      100.00% [1/1 00:00<00:00]\n",
              "    </div>\n",
              "    "
            ],
            "text/plain": [
              "<IPython.core.display.HTML object>"
            ]
          },
          "metadata": {
            "tags": []
          }
        },
        {
          "output_type": "execute_result",
          "data": {
            "text/plain": [
              "torch.Size([1, 400])"
            ]
          },
          "metadata": {
            "tags": []
          },
          "execution_count": 29
        }
      ]
    },
    {
      "cell_type": "markdown",
      "metadata": {
        "id": "foxIQKb5JMQD"
      },
      "source": [
        "### Visualization"
      ]
    },
    {
      "cell_type": "code",
      "metadata": {
        "id": "AHMtPgs7pDN7"
      },
      "source": [
        "use_sample = False\n",
        "if use_sample:\n",
        "    idx = np.random.permutation(range_of(sentence_encs))[:1e4]\n",
        "    encs = sentence_encs[idx]\n",
        "    ys = y_np[idx]\n",
        "else:\n",
        "    encs = sentence_encs\n",
        "    ys = y_np"
      ],
      "execution_count": null,
      "outputs": []
    },
    {
      "cell_type": "markdown",
      "metadata": {
        "id": "6drhODONJP6L"
      },
      "source": [
        "#### PCA"
      ]
    },
    {
      "cell_type": "code",
      "metadata": {
        "id": "29orCJjRJTJZ",
        "outputId": "352eb962-d05e-4f46-efce-b0760714ca97",
        "colab": {
          "base_uri": "https://localhost:8080/",
          "height": 55
        }
      },
      "source": [
        "pca = PCA(3)\n",
        "sent_3d = pca.fit_transform(encs)\n",
        "pca.explained_variance_ratio_, sum(pca.explained_variance_ratio_)"
      ],
      "execution_count": null,
      "outputs": [
        {
          "output_type": "execute_result",
          "data": {
            "text/plain": [
              "(array([0.07519753, 0.03708632, 0.02682363], dtype=float32),\n",
              " 0.1391074825078249)"
            ]
          },
          "metadata": {
            "tags": []
          },
          "execution_count": 46
        }
      ]
    },
    {
      "cell_type": "markdown",
      "metadata": {
        "id": "lldr0rCJQFtf"
      },
      "source": [
        "Lot's of info lost, first 3 components contain only around 14% of variance in the data"
      ]
    },
    {
      "cell_type": "code",
      "metadata": {
        "id": "MSAw1vJDmLbC"
      },
      "source": [
        "sample = sent_3d[:100]\n",
        "y_sample = y_np[:100]"
      ],
      "execution_count": null,
      "outputs": []
    },
    {
      "cell_type": "code",
      "metadata": {
        "id": "4ERKqaRyXIRD"
      },
      "source": [
        "def plot_2d(x, y):\n",
        "    fig, axs = plt.subplots(1, 3, figsize=(15, 5))\n",
        "    for i, (j, k) in enumerate(combinations(range(3), 2)):\n",
        "        ax = axs[i]\n",
        "        ax.scatter(x[:,j], x[:,k], c=y, cmap='Set1')\n",
        "        ax.set_xlabel(f'C {j}')\n",
        "        ax.set_ylabel(f'C {k}')\n",
        "        ax.set_xticks([])\n",
        "        ax.set_yticks([])\n",
        "    plt.show()"
      ],
      "execution_count": null,
      "outputs": []
    },
    {
      "cell_type": "code",
      "metadata": {
        "id": "nMZBLCZ_YEEw",
        "outputId": "9bcc246e-3a8e-41c6-955f-4efb71558d76",
        "colab": {
          "base_uri": "https://localhost:8080/",
          "height": 317
        }
      },
      "source": [
        "plot_2d(sample, y_sample)"
      ],
      "execution_count": null,
      "outputs": [
        {
          "output_type": "display_data",
          "data": {
            "image/png": "[encoded data removed]",
            "text/plain": [
              "<Figure size 1080x360 with 3 Axes>"
            ]
          },
          "metadata": {
            "tags": []
          }
        }
      ]
    },
    {
      "cell_type": "code",
      "metadata": {
        "id": "LnJ_pE20bpD1"
      },
      "source": [
        "def plot_3d(x, y):\n",
        "    fig = plt.figure(figsize=(10,10))\n",
        "    ax = fig.add_subplot(111, projection='3d')\n",
        "    markers = ['o', '*', '^', 's']\n",
        "    for i in range(4):\n",
        "        idx = y == i\n",
        "        ax.scatter(x[idx,0], x[idx,1], x[idx,2], marker=markers[i], s=50, alpha=1)\n",
        "    ax.set_xlabel(f'C 0'); ax.set_ylabel(f'C 1'); ax.set_zlabel(f'C 2');\n",
        "    ax.set_xticklabels([]); ax.set_yticklabels([]); ax.set_zticklabels([]);\n",
        "    \n",
        "    plt.show()"
      ],
      "execution_count": null,
      "outputs": []
    },
    {
      "cell_type": "code",
      "metadata": {
        "id": "1ONHsL4ITnt-",
        "outputId": "7da5d5df-87a0-4916-ced5-9bdca4efe3dd",
        "colab": {
          "base_uri": "https://localhost:8080/",
          "height": 575
        }
      },
      "source": [
        "plot_3d(sample, y_sample)"
      ],
      "execution_count": null,
      "outputs": [
        {
          "output_type": "display_data",
          "data": {
            "image/png": "[encoded data removed]",
            "text/plain": [
              "<Figure size 720x720 with 1 Axes>"
            ]
          },
          "metadata": {
            "tags": [],
            "needs_background": "light"
          }
        }
      ]
    },
    {
      "cell_type": "markdown",
      "metadata": {
        "id": "GBVCfWJQz3ug"
      },
      "source": [
        "### t-SNE"
      ]
    },
    {
      "cell_type": "markdown",
      "metadata": {
        "id": "R86VDrnnRN8V"
      },
      "source": [
        "Let's try fancier dimentionality reduction technique. [t-SNE](https://lvdmaaten.github.io/tsne/) is specifically designed for visualization of high dimensional data in 2d."
      ]
    },
    {
      "cell_type": "code",
      "metadata": {
        "id": "d-fLzxNCz9vD",
        "outputId": "e84bb6a7-1f10-4f2f-c35f-45a55357829b",
        "colab": {
          "base_uri": "https://localhost:8080/",
          "height": 36
        }
      },
      "source": [
        "pca50 = PCA(50)\n",
        "encs_trunc = pca50.fit_transform(encs)\n",
        "sum(pca50.explained_variance_ratio_)"
      ],
      "execution_count": null,
      "outputs": [
        {
          "output_type": "execute_result",
          "data": {
            "text/plain": [
              "0.5072251642122865"
            ]
          },
          "metadata": {
            "tags": []
          },
          "execution_count": 52
        }
      ]
    },
    {
      "cell_type": "markdown",
      "metadata": {
        "id": "eNx_c9U6U6eL"
      },
      "source": [
        "Note that t-SNE might take a lot of time"
      ]
    },
    {
      "cell_type": "code",
      "metadata": {
        "id": "S1zGNJkKz9ra"
      },
      "source": [
        "tsne = TSNE(n_jobs=-1)"
      ],
      "execution_count": null,
      "outputs": []
    },
    {
      "cell_type": "code",
      "metadata": {
        "id": "UAkt6_Th1D8F",
        "outputId": "56349a90-1f45-4a52-a1b8-ceb12c80f1e1",
        "colab": {
          "base_uri": "https://localhost:8080/",
          "height": 55
        }
      },
      "source": [
        "%%time\n",
        "encs_2d = tsne.fit_transform(encs_trunc)"
      ],
      "execution_count": null,
      "outputs": [
        {
          "output_type": "stream",
          "text": [
            "CPU times: user 22min 55s, sys: 651 ms, total: 22min 56s\n",
            "Wall time: 18min 50s\n"
          ],
          "name": "stdout"
        }
      ]
    },
    {
      "cell_type": "code",
      "metadata": {
        "id": "EopxQTFP1D5B"
      },
      "source": [
        "sample = encs_2d[:100]\n",
        "y_sample = y_np[:100]"
      ],
      "execution_count": null,
      "outputs": []
    },
    {
      "cell_type": "code",
      "metadata": {
        "id": "ep32b_vw1jlU",
        "outputId": "12fcead4-40a0-4ebc-bdce-6071b48c00c8",
        "colab": {
          "base_uri": "https://localhost:8080/",
          "height": 265
        }
      },
      "source": [
        "plt.scatter(sample[:,0], sample[:,1], c=y_sample);"
      ],
      "execution_count": null,
      "outputs": [
        {
          "output_type": "display_data",
          "data": {
            "image/png": "[encoded data removed]",
            "text/plain": [
              "<Figure size 432x288 with 1 Axes>"
            ]
          },
          "metadata": {
            "tags": [],
            "needs_background": "light"
          }
        }
      ]
    },
    {
      "cell_type": "markdown",
      "metadata": {
        "id": "60P3emXIV49C"
      },
      "source": [
        "Also it needs some tuning to work well"
      ]
    },
    {
      "cell_type": "code",
      "metadata": {
        "id": "WYIShePaARb-",
        "outputId": "3713beec-2b0e-48b3-adec-a81dec32157d",
        "colab": {
          "base_uri": "https://localhost:8080/",
          "height": 55
        }
      },
      "source": [
        "%%time\n",
        "tsne = TSNE(n_jobs=-1, perplexity=10)\n",
        "encs_2d = tsne.fit_transform(encs_trunc)"
      ],
      "execution_count": null,
      "outputs": [
        {
          "output_type": "stream",
          "text": [
            "CPU times: user 17min 50s, sys: 677 ms, total: 17min 51s\n",
            "Wall time: 14min 2s\n"
          ],
          "name": "stdout"
        }
      ]
    },
    {
      "cell_type": "code",
      "metadata": {
        "id": "lkSG-ggFAcne"
      },
      "source": [
        "sample = encs_2d[:100]\n",
        "y_sample = y_np[:100]"
      ],
      "execution_count": null,
      "outputs": []
    },
    {
      "cell_type": "code",
      "metadata": {
        "id": "_vkXYZ2eAdR6",
        "outputId": "0d541511-756d-48b4-c9bc-c6a33a623dcf",
        "colab": {
          "base_uri": "https://localhost:8080/",
          "height": 265
        }
      },
      "source": [
        "plt.scatter(sample[:,0], sample[:,1], c=y_sample);"
      ],
      "execution_count": null,
      "outputs": [
        {
          "output_type": "display_data",
          "data": {
            "image/png": "[encoded data removed]",
            "text/plain": [
              "<Figure size 432x288 with 1 Axes>"
            ]
          },
          "metadata": {
            "tags": [],
            "needs_background": "light"
          }
        }
      ]
    },
    {
      "cell_type": "code",
      "metadata": {
        "id": "qikBzW-gWDwC"
      },
      "source": [
        ""
      ],
      "execution_count": null,
      "outputs": []
    }
  ]
}