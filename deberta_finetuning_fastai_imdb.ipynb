{
  "nbformat": 4,
  "nbformat_minor": 0,
  "metadata": {
    "colab": {
      "name": "deberta_finetuning_fastai_imdb.ipynb",
      "provenance": [],
      "collapsed_sections": [
        "IAdYS5Ktmps3",
        "TWeCfB8uvQHX"
      ],
      "authorship_tag": "ABX9TyOgGjEi6acLACKeLifnyu6X",
      "include_colab_link": true
    },
    "kernelspec": {
      "name": "python3",
      "display_name": "Python 3"
    },
    "accelerator": "GPU",
    "widgets": {
      "application/vnd.jupyter.widget-state+json": {
        "168058a9ab384a35b5159110115f786a": {
          "model_module": "@jupyter-widgets/controls",
          "model_name": "HBoxModel",
          "state": {
            "_view_name": "HBoxView",
            "_dom_classes": [],
            "_model_name": "HBoxModel",
            "_view_module": "@jupyter-widgets/controls",
            "_model_module_version": "1.5.0",
            "_view_count": null,
            "_view_module_version": "1.5.0",
            "box_style": "",
            "layout": "IPY_MODEL_2d403d96a06b4974aea89013f7cc0985",
            "_model_module": "@jupyter-widgets/controls",
            "children": [
              "IPY_MODEL_8846698f546341549a04befcb6400b0d",
              "IPY_MODEL_1c31d86a712c45ed843eaa5993a2a6fe"
            ]
          }
        },
        "2d403d96a06b4974aea89013f7cc0985": {
          "model_module": "@jupyter-widgets/base",
          "model_name": "LayoutModel",
          "state": {
            "_view_name": "LayoutView",
            "grid_template_rows": null,
            "right": null,
            "justify_content": null,
            "_view_module": "@jupyter-widgets/base",
            "overflow": null,
            "_model_module_version": "1.2.0",
            "_view_count": null,
            "flex_flow": null,
            "width": null,
            "min_width": null,
            "border": null,
            "align_items": null,
            "bottom": null,
            "_model_module": "@jupyter-widgets/base",
            "top": null,
            "grid_column": null,
            "overflow_y": null,
            "overflow_x": null,
            "grid_auto_flow": null,
            "grid_area": null,
            "grid_template_columns": null,
            "flex": null,
            "_model_name": "LayoutModel",
            "justify_items": null,
            "grid_row": null,
            "max_height": null,
            "align_content": null,
            "visibility": null,
            "align_self": null,
            "height": null,
            "min_height": null,
            "padding": null,
            "grid_auto_rows": null,
            "grid_gap": null,
            "max_width": null,
            "order": null,
            "_view_module_version": "1.2.0",
            "grid_template_areas": null,
            "object_position": null,
            "object_fit": null,
            "grid_auto_columns": null,
            "margin": null,
            "display": null,
            "left": null
          }
        },
        "8846698f546341549a04befcb6400b0d": {
          "model_module": "@jupyter-widgets/controls",
          "model_name": "FloatProgressModel",
          "state": {
            "_view_name": "ProgressView",
            "style": "IPY_MODEL_0673668c62a748c09b5af60a5769a181",
            "_dom_classes": [],
            "description": "Downloading: 100%",
            "_model_name": "FloatProgressModel",
            "bar_style": "success",
            "max": 474,
            "_view_module": "@jupyter-widgets/controls",
            "_model_module_version": "1.5.0",
            "value": 474,
            "_view_count": null,
            "_view_module_version": "1.5.0",
            "orientation": "horizontal",
            "min": 0,
            "description_tooltip": null,
            "_model_module": "@jupyter-widgets/controls",
            "layout": "IPY_MODEL_5c2b831b46624d719773a9c6c6e9e109"
          }
        },
        "1c31d86a712c45ed843eaa5993a2a6fe": {
          "model_module": "@jupyter-widgets/controls",
          "model_name": "HTMLModel",
          "state": {
            "_view_name": "HTMLView",
            "style": "IPY_MODEL_c390a3ce89264c2e97224871d36ec1b7",
            "_dom_classes": [],
            "description": "",
            "_model_name": "HTMLModel",
            "placeholder": "​",
            "_view_module": "@jupyter-widgets/controls",
            "_model_module_version": "1.5.0",
            "value": " 474/474 [00:00&lt;00:00, 1.04kB/s]",
            "_view_count": null,
            "_view_module_version": "1.5.0",
            "description_tooltip": null,
            "_model_module": "@jupyter-widgets/controls",
            "layout": "IPY_MODEL_c890099995a7483886b6906410a8b49c"
          }
        },
        "0673668c62a748c09b5af60a5769a181": {
          "model_module": "@jupyter-widgets/controls",
          "model_name": "ProgressStyleModel",
          "state": {
            "_view_name": "StyleView",
            "_model_name": "ProgressStyleModel",
            "description_width": "initial",
            "_view_module": "@jupyter-widgets/base",
            "_model_module_version": "1.5.0",
            "_view_count": null,
            "_view_module_version": "1.2.0",
            "bar_color": null,
            "_model_module": "@jupyter-widgets/controls"
          }
        },
        "5c2b831b46624d719773a9c6c6e9e109": {
          "model_module": "@jupyter-widgets/base",
          "model_name": "LayoutModel",
          "state": {
            "_view_name": "LayoutView",
            "grid_template_rows": null,
            "right": null,
            "justify_content": null,
            "_view_module": "@jupyter-widgets/base",
            "overflow": null,
            "_model_module_version": "1.2.0",
            "_view_count": null,
            "flex_flow": null,
            "width": null,
            "min_width": null,
            "border": null,
            "align_items": null,
            "bottom": null,
            "_model_module": "@jupyter-widgets/base",
            "top": null,
            "grid_column": null,
            "overflow_y": null,
            "overflow_x": null,
            "grid_auto_flow": null,
            "grid_area": null,
            "grid_template_columns": null,
            "flex": null,
            "_model_name": "LayoutModel",
            "justify_items": null,
            "grid_row": null,
            "max_height": null,
            "align_content": null,
            "visibility": null,
            "align_self": null,
            "height": null,
            "min_height": null,
            "padding": null,
            "grid_auto_rows": null,
            "grid_gap": null,
            "max_width": null,
            "order": null,
            "_view_module_version": "1.2.0",
            "grid_template_areas": null,
            "object_position": null,
            "object_fit": null,
            "grid_auto_columns": null,
            "margin": null,
            "display": null,
            "left": null
          }
        },
        "c390a3ce89264c2e97224871d36ec1b7": {
          "model_module": "@jupyter-widgets/controls",
          "model_name": "DescriptionStyleModel",
          "state": {
            "_view_name": "StyleView",
            "_model_name": "DescriptionStyleModel",
            "description_width": "",
            "_view_module": "@jupyter-widgets/base",
            "_model_module_version": "1.5.0",
            "_view_count": null,
            "_view_module_version": "1.2.0",
            "_model_module": "@jupyter-widgets/controls"
          }
        },
        "c890099995a7483886b6906410a8b49c": {
          "model_module": "@jupyter-widgets/base",
          "model_name": "LayoutModel",
          "state": {
            "_view_name": "LayoutView",
            "grid_template_rows": null,
            "right": null,
            "justify_content": null,
            "_view_module": "@jupyter-widgets/base",
            "overflow": null,
            "_model_module_version": "1.2.0",
            "_view_count": null,
            "flex_flow": null,
            "width": null,
            "min_width": null,
            "border": null,
            "align_items": null,
            "bottom": null,
            "_model_module": "@jupyter-widgets/base",
            "top": null,
            "grid_column": null,
            "overflow_y": null,
            "overflow_x": null,
            "grid_auto_flow": null,
            "grid_area": null,
            "grid_template_columns": null,
            "flex": null,
            "_model_name": "LayoutModel",
            "justify_items": null,
            "grid_row": null,
            "max_height": null,
            "align_content": null,
            "visibility": null,
            "align_self": null,
            "height": null,
            "min_height": null,
            "padding": null,
            "grid_auto_rows": null,
            "grid_gap": null,
            "max_width": null,
            "order": null,
            "_view_module_version": "1.2.0",
            "grid_template_areas": null,
            "object_position": null,
            "object_fit": null,
            "grid_auto_columns": null,
            "margin": null,
            "display": null,
            "left": null
          }
        },
        "0c1826292ad8468ab3345f5a5315dacd": {
          "model_module": "@jupyter-widgets/controls",
          "model_name": "HBoxModel",
          "state": {
            "_view_name": "HBoxView",
            "_dom_classes": [],
            "_model_name": "HBoxModel",
            "_view_module": "@jupyter-widgets/controls",
            "_model_module_version": "1.5.0",
            "_view_count": null,
            "_view_module_version": "1.5.0",
            "box_style": "",
            "layout": "IPY_MODEL_28dfcd5a804743109e8015894ce2db48",
            "_model_module": "@jupyter-widgets/controls",
            "children": [
              "IPY_MODEL_0ae9fb490d83400e9cb712376a55bfdd",
              "IPY_MODEL_d9b5e1ab16f8485cbf6b0e7ee2bc47a7"
            ]
          }
        },
        "28dfcd5a804743109e8015894ce2db48": {
          "model_module": "@jupyter-widgets/base",
          "model_name": "LayoutModel",
          "state": {
            "_view_name": "LayoutView",
            "grid_template_rows": null,
            "right": null,
            "justify_content": null,
            "_view_module": "@jupyter-widgets/base",
            "overflow": null,
            "_model_module_version": "1.2.0",
            "_view_count": null,
            "flex_flow": null,
            "width": null,
            "min_width": null,
            "border": null,
            "align_items": null,
            "bottom": null,
            "_model_module": "@jupyter-widgets/base",
            "top": null,
            "grid_column": null,
            "overflow_y": null,
            "overflow_x": null,
            "grid_auto_flow": null,
            "grid_area": null,
            "grid_template_columns": null,
            "flex": null,
            "_model_name": "LayoutModel",
            "justify_items": null,
            "grid_row": null,
            "max_height": null,
            "align_content": null,
            "visibility": null,
            "align_self": null,
            "height": null,
            "min_height": null,
            "padding": null,
            "grid_auto_rows": null,
            "grid_gap": null,
            "max_width": null,
            "order": null,
            "_view_module_version": "1.2.0",
            "grid_template_areas": null,
            "object_position": null,
            "object_fit": null,
            "grid_auto_columns": null,
            "margin": null,
            "display": null,
            "left": null
          }
        },
        "0ae9fb490d83400e9cb712376a55bfdd": {
          "model_module": "@jupyter-widgets/controls",
          "model_name": "FloatProgressModel",
          "state": {
            "_view_name": "ProgressView",
            "style": "IPY_MODEL_d2183f6784b844ea95899f6102a6acf4",
            "_dom_classes": [],
            "description": "Downloading: 100%",
            "_model_name": "FloatProgressModel",
            "bar_style": "success",
            "max": 3917897,
            "_view_module": "@jupyter-widgets/controls",
            "_model_module_version": "1.5.0",
            "value": 3917897,
            "_view_count": null,
            "_view_module_version": "1.5.0",
            "orientation": "horizontal",
            "min": 0,
            "description_tooltip": null,
            "_model_module": "@jupyter-widgets/controls",
            "layout": "IPY_MODEL_fce2f78623f440b6977a64098b5bf0cc"
          }
        },
        "d9b5e1ab16f8485cbf6b0e7ee2bc47a7": {
          "model_module": "@jupyter-widgets/controls",
          "model_name": "HTMLModel",
          "state": {
            "_view_name": "HTMLView",
            "style": "IPY_MODEL_e664de936a2549ca9b56f89ba7f20a05",
            "_dom_classes": [],
            "description": "",
            "_model_name": "HTMLModel",
            "placeholder": "​",
            "_view_module": "@jupyter-widgets/controls",
            "_model_module_version": "1.5.0",
            "value": " 3.92M/3.92M [00:00&lt;00:00, 6.64MB/s]",
            "_view_count": null,
            "_view_module_version": "1.5.0",
            "description_tooltip": null,
            "_model_module": "@jupyter-widgets/controls",
            "layout": "IPY_MODEL_02a2b6c3e04a4ffc9eaa7fb324fde416"
          }
        },
        "d2183f6784b844ea95899f6102a6acf4": {
          "model_module": "@jupyter-widgets/controls",
          "model_name": "ProgressStyleModel",
          "state": {
            "_view_name": "StyleView",
            "_model_name": "ProgressStyleModel",
            "description_width": "initial",
            "_view_module": "@jupyter-widgets/base",
            "_model_module_version": "1.5.0",
            "_view_count": null,
            "_view_module_version": "1.2.0",
            "bar_color": null,
            "_model_module": "@jupyter-widgets/controls"
          }
        },
        "fce2f78623f440b6977a64098b5bf0cc": {
          "model_module": "@jupyter-widgets/base",
          "model_name": "LayoutModel",
          "state": {
            "_view_name": "LayoutView",
            "grid_template_rows": null,
            "right": null,
            "justify_content": null,
            "_view_module": "@jupyter-widgets/base",
            "overflow": null,
            "_model_module_version": "1.2.0",
            "_view_count": null,
            "flex_flow": null,
            "width": null,
            "min_width": null,
            "border": null,
            "align_items": null,
            "bottom": null,
            "_model_module": "@jupyter-widgets/base",
            "top": null,
            "grid_column": null,
            "overflow_y": null,
            "overflow_x": null,
            "grid_auto_flow": null,
            "grid_area": null,
            "grid_template_columns": null,
            "flex": null,
            "_model_name": "LayoutModel",
            "justify_items": null,
            "grid_row": null,
            "max_height": null,
            "align_content": null,
            "visibility": null,
            "align_self": null,
            "height": null,
            "min_height": null,
            "padding": null,
            "grid_auto_rows": null,
            "grid_gap": null,
            "max_width": null,
            "order": null,
            "_view_module_version": "1.2.0",
            "grid_template_areas": null,
            "object_position": null,
            "object_fit": null,
            "grid_auto_columns": null,
            "margin": null,
            "display": null,
            "left": null
          }
        },
        "e664de936a2549ca9b56f89ba7f20a05": {
          "model_module": "@jupyter-widgets/controls",
          "model_name": "DescriptionStyleModel",
          "state": {
            "_view_name": "StyleView",
            "_model_name": "DescriptionStyleModel",
            "description_width": "",
            "_view_module": "@jupyter-widgets/base",
            "_model_module_version": "1.5.0",
            "_view_count": null,
            "_view_module_version": "1.2.0",
            "_model_module": "@jupyter-widgets/controls"
          }
        },
        "02a2b6c3e04a4ffc9eaa7fb324fde416": {
          "model_module": "@jupyter-widgets/base",
          "model_name": "LayoutModel",
          "state": {
            "_view_name": "LayoutView",
            "grid_template_rows": null,
            "right": null,
            "justify_content": null,
            "_view_module": "@jupyter-widgets/base",
            "overflow": null,
            "_model_module_version": "1.2.0",
            "_view_count": null,
            "flex_flow": null,
            "width": null,
            "min_width": null,
            "border": null,
            "align_items": null,
            "bottom": null,
            "_model_module": "@jupyter-widgets/base",
            "top": null,
            "grid_column": null,
            "overflow_y": null,
            "overflow_x": null,
            "grid_auto_flow": null,
            "grid_area": null,
            "grid_template_columns": null,
            "flex": null,
            "_model_name": "LayoutModel",
            "justify_items": null,
            "grid_row": null,
            "max_height": null,
            "align_content": null,
            "visibility": null,
            "align_self": null,
            "height": null,
            "min_height": null,
            "padding": null,
            "grid_auto_rows": null,
            "grid_gap": null,
            "max_width": null,
            "order": null,
            "_view_module_version": "1.2.0",
            "grid_template_areas": null,
            "object_position": null,
            "object_fit": null,
            "grid_auto_columns": null,
            "margin": null,
            "display": null,
            "left": null
          }
        },
        "51e1970e76cc482ca44c446681696bf6": {
          "model_module": "@jupyter-widgets/controls",
          "model_name": "HBoxModel",
          "state": {
            "_view_name": "HBoxView",
            "_dom_classes": [],
            "_model_name": "HBoxModel",
            "_view_module": "@jupyter-widgets/controls",
            "_model_module_version": "1.5.0",
            "_view_count": null,
            "_view_module_version": "1.5.0",
            "box_style": "",
            "layout": "IPY_MODEL_b42d81ecf1f546f19b64ca747dd9af85",
            "_model_module": "@jupyter-widgets/controls",
            "children": [
              "IPY_MODEL_15cbac6066df4a8ca93f01e0ec4070be",
              "IPY_MODEL_54faf1b7309f42e9981053e3ee7b3b6b"
            ]
          }
        },
        "b42d81ecf1f546f19b64ca747dd9af85": {
          "model_module": "@jupyter-widgets/base",
          "model_name": "LayoutModel",
          "state": {
            "_view_name": "LayoutView",
            "grid_template_rows": null,
            "right": null,
            "justify_content": null,
            "_view_module": "@jupyter-widgets/base",
            "overflow": null,
            "_model_module_version": "1.2.0",
            "_view_count": null,
            "flex_flow": null,
            "width": null,
            "min_width": null,
            "border": null,
            "align_items": null,
            "bottom": null,
            "_model_module": "@jupyter-widgets/base",
            "top": null,
            "grid_column": null,
            "overflow_y": null,
            "overflow_x": null,
            "grid_auto_flow": null,
            "grid_area": null,
            "grid_template_columns": null,
            "flex": null,
            "_model_name": "LayoutModel",
            "justify_items": null,
            "grid_row": null,
            "max_height": null,
            "align_content": null,
            "visibility": null,
            "align_self": null,
            "height": null,
            "min_height": null,
            "padding": null,
            "grid_auto_rows": null,
            "grid_gap": null,
            "max_width": null,
            "order": null,
            "_view_module_version": "1.2.0",
            "grid_template_areas": null,
            "object_position": null,
            "object_fit": null,
            "grid_auto_columns": null,
            "margin": null,
            "display": null,
            "left": null
          }
        },
        "15cbac6066df4a8ca93f01e0ec4070be": {
          "model_module": "@jupyter-widgets/controls",
          "model_name": "FloatProgressModel",
          "state": {
            "_view_name": "ProgressView",
            "style": "IPY_MODEL_51dd38352c7e4267a59e58d322020c95",
            "_dom_classes": [],
            "description": "Downloading: 100%",
            "_model_name": "FloatProgressModel",
            "bar_style": "success",
            "max": 558582766,
            "_view_module": "@jupyter-widgets/controls",
            "_model_module_version": "1.5.0",
            "value": 558582766,
            "_view_count": null,
            "_view_module_version": "1.5.0",
            "orientation": "horizontal",
            "min": 0,
            "description_tooltip": null,
            "_model_module": "@jupyter-widgets/controls",
            "layout": "IPY_MODEL_08c0979e9ad141989ff1b33c9ad4d72a"
          }
        },
        "54faf1b7309f42e9981053e3ee7b3b6b": {
          "model_module": "@jupyter-widgets/controls",
          "model_name": "HTMLModel",
          "state": {
            "_view_name": "HTMLView",
            "style": "IPY_MODEL_ca0642a01ad44dd6a70de1f8ef69d5bf",
            "_dom_classes": [],
            "description": "",
            "_model_name": "HTMLModel",
            "placeholder": "​",
            "_view_module": "@jupyter-widgets/controls",
            "_model_module_version": "1.5.0",
            "value": " 559M/559M [00:12&lt;00:00, 45.9MB/s]",
            "_view_count": null,
            "_view_module_version": "1.5.0",
            "description_tooltip": null,
            "_model_module": "@jupyter-widgets/controls",
            "layout": "IPY_MODEL_c85d3cc2013240209e3bfd3fb2346323"
          }
        },
        "51dd38352c7e4267a59e58d322020c95": {
          "model_module": "@jupyter-widgets/controls",
          "model_name": "ProgressStyleModel",
          "state": {
            "_view_name": "StyleView",
            "_model_name": "ProgressStyleModel",
            "description_width": "initial",
            "_view_module": "@jupyter-widgets/base",
            "_model_module_version": "1.5.0",
            "_view_count": null,
            "_view_module_version": "1.2.0",
            "bar_color": null,
            "_model_module": "@jupyter-widgets/controls"
          }
        },
        "08c0979e9ad141989ff1b33c9ad4d72a": {
          "model_module": "@jupyter-widgets/base",
          "model_name": "LayoutModel",
          "state": {
            "_view_name": "LayoutView",
            "grid_template_rows": null,
            "right": null,
            "justify_content": null,
            "_view_module": "@jupyter-widgets/base",
            "overflow": null,
            "_model_module_version": "1.2.0",
            "_view_count": null,
            "flex_flow": null,
            "width": null,
            "min_width": null,
            "border": null,
            "align_items": null,
            "bottom": null,
            "_model_module": "@jupyter-widgets/base",
            "top": null,
            "grid_column": null,
            "overflow_y": null,
            "overflow_x": null,
            "grid_auto_flow": null,
            "grid_area": null,
            "grid_template_columns": null,
            "flex": null,
            "_model_name": "LayoutModel",
            "justify_items": null,
            "grid_row": null,
            "max_height": null,
            "align_content": null,
            "visibility": null,
            "align_self": null,
            "height": null,
            "min_height": null,
            "padding": null,
            "grid_auto_rows": null,
            "grid_gap": null,
            "max_width": null,
            "order": null,
            "_view_module_version": "1.2.0",
            "grid_template_areas": null,
            "object_position": null,
            "object_fit": null,
            "grid_auto_columns": null,
            "margin": null,
            "display": null,
            "left": null
          }
        },
        "ca0642a01ad44dd6a70de1f8ef69d5bf": {
          "model_module": "@jupyter-widgets/controls",
          "model_name": "DescriptionStyleModel",
          "state": {
            "_view_name": "StyleView",
            "_model_name": "DescriptionStyleModel",
            "description_width": "",
            "_view_module": "@jupyter-widgets/base",
            "_model_module_version": "1.5.0",
            "_view_count": null,
            "_view_module_version": "1.2.0",
            "_model_module": "@jupyter-widgets/controls"
          }
        },
        "c85d3cc2013240209e3bfd3fb2346323": {
          "model_module": "@jupyter-widgets/base",
          "model_name": "LayoutModel",
          "state": {
            "_view_name": "LayoutView",
            "grid_template_rows": null,
            "right": null,
            "justify_content": null,
            "_view_module": "@jupyter-widgets/base",
            "overflow": null,
            "_model_module_version": "1.2.0",
            "_view_count": null,
            "flex_flow": null,
            "width": null,
            "min_width": null,
            "border": null,
            "align_items": null,
            "bottom": null,
            "_model_module": "@jupyter-widgets/base",
            "top": null,
            "grid_column": null,
            "overflow_y": null,
            "overflow_x": null,
            "grid_auto_flow": null,
            "grid_area": null,
            "grid_template_columns": null,
            "flex": null,
            "_model_name": "LayoutModel",
            "justify_items": null,
            "grid_row": null,
            "max_height": null,
            "align_content": null,
            "visibility": null,
            "align_self": null,
            "height": null,
            "min_height": null,
            "padding": null,
            "grid_auto_rows": null,
            "grid_gap": null,
            "max_width": null,
            "order": null,
            "_view_module_version": "1.2.0",
            "grid_template_areas": null,
            "object_position": null,
            "object_fit": null,
            "grid_auto_columns": null,
            "margin": null,
            "display": null,
            "left": null
          }
        }
      }
    }
  },
  "cells": [
    {
      "cell_type": "markdown",
      "metadata": {
        "id": "view-in-github",
        "colab_type": "text"
      },
      "source": [
        "<a href=\"https://colab.research.google.com/github/arampacha/fastai_nbs/blob/main/deberta_finetuning_fastai_imdb.ipynb\" target=\"_parent\"><img src=\"https://colab.research.google.com/assets/colab-badge.svg\" alt=\"Open In Colab\"/></a>"
      ]
    },
    {
      "cell_type": "code",
      "metadata": {
        "id": "rOxddJNUM3BA",
        "colab": {
          "base_uri": "https://localhost:8080/"
        },
        "outputId": "3b204d1f-b76b-42b4-a9e9-142558179d95"
      },
      "source": [
        "!pip install -Uqq fastai transformers ohmeow-blurr wandb"
      ],
      "execution_count": null,
      "outputs": [
        {
          "output_type": "stream",
          "text": [
            "\u001b[K     |████████████████████████████████| 194kB 9.1MB/s \n",
            "\u001b[K     |████████████████████████████████| 1.8MB 15.6MB/s \n",
            "\u001b[K     |████████████████████████████████| 61kB 9.5MB/s \n",
            "\u001b[K     |████████████████████████████████| 2.0MB 50.3MB/s \n",
            "\u001b[K     |████████████████████████████████| 61kB 9.2MB/s \n",
            "\u001b[K     |████████████████████████████████| 3.2MB 49.9MB/s \n",
            "\u001b[K     |████████████████████████████████| 890kB 52.1MB/s \n",
            "\u001b[K     |████████████████████████████████| 51kB 6.6MB/s \n",
            "\u001b[K     |████████████████████████████████| 4.1MB 48.9MB/s \n",
            "\u001b[K     |████████████████████████████████| 184kB 58.0MB/s \n",
            "\u001b[K     |████████████████████████████████| 14.5MB 226kB/s \n",
            "\u001b[K     |████████████████████████████████| 1.2MB 51.1MB/s \n",
            "\u001b[K     |████████████████████████████████| 163kB 57.6MB/s \n",
            "\u001b[K     |████████████████████████████████| 102kB 15.4MB/s \n",
            "\u001b[K     |████████████████████████████████| 133kB 56.4MB/s \n",
            "\u001b[K     |████████████████████████████████| 102kB 14.1MB/s \n",
            "\u001b[K     |████████████████████████████████| 20.7MB 1.4MB/s \n",
            "\u001b[K     |████████████████████████████████| 245kB 57.1MB/s \n",
            "\u001b[K     |████████████████████████████████| 71kB 11.3MB/s \n",
            "\u001b[?25h  Building wheel for sacremoses (setup.py) ... \u001b[?25l\u001b[?25hdone\n",
            "  Building wheel for seqeval (setup.py) ... \u001b[?25l\u001b[?25hdone\n",
            "  Building wheel for subprocess32 (setup.py) ... \u001b[?25l\u001b[?25hdone\n",
            "  Building wheel for pathtools (setup.py) ... \u001b[?25l\u001b[?25hdone\n"
          ],
          "name": "stdout"
        }
      ]
    },
    {
      "cell_type": "code",
      "metadata": {
        "id": "JBoPYetYNKos"
      },
      "source": [
        "from fastai.text.all import *\n",
        "from fastai.callback.wandb import *"
      ],
      "execution_count": null,
      "outputs": []
    },
    {
      "cell_type": "code",
      "metadata": {
        "id": "KDPr2QmAXdpL"
      },
      "source": [
        "def read_text(fn):\n",
        "    return open(fn).read()"
      ],
      "execution_count": null,
      "outputs": []
    },
    {
      "cell_type": "code",
      "metadata": {
        "id": "Mxwy7p9bG7S8",
        "colab": {
          "base_uri": "https://localhost:8080/",
          "height": 17
        },
        "outputId": "b0ea96c3-8b29-4b50-ccb5-ac1e4b5be68b"
      },
      "source": [
        "path = untar_data(URLs.IMDB)"
      ],
      "execution_count": null,
      "outputs": [
        {
          "output_type": "display_data",
          "data": {
            "text/html": [
              ""
            ],
            "text/plain": [
              "<IPython.core.display.HTML object>"
            ]
          },
          "metadata": {
            "tags": []
          }
        }
      ]
    },
    {
      "cell_type": "code",
      "metadata": {
        "id": "blHDYERiUW9T"
      },
      "source": [
        "model_name = \"microsoft/deberta-base\"\n",
        "\n",
        "max_len = 512\n",
        "bs = 8\n",
        "val_bs = 16"
      ],
      "execution_count": null,
      "outputs": []
    },
    {
      "cell_type": "markdown",
      "metadata": {
        "id": "GR0i4wTqqbtW"
      },
      "source": [
        "## Tracking"
      ]
    },
    {
      "cell_type": "code",
      "metadata": {
        "colab": {
          "base_uri": "https://localhost:8080/"
        },
        "id": "oNjzBxkWs16Q",
        "outputId": "bbe7cd9b-a268-4ed3-be8e-ac62694fb470"
      },
      "source": [
        "!wandb login"
      ],
      "execution_count": null,
      "outputs": [
        {
          "output_type": "stream",
          "text": [
            "\u001b[34m\u001b[1mwandb\u001b[0m: You can find your API key in your browser here: https://wandb.ai/authorize\n",
            "\u001b[34m\u001b[1mwandb\u001b[0m: Paste an API key from your profile and hit enter: \n",
            "\u001b[34m\u001b[1mwandb\u001b[0m: Appending key for api.wandb.ai to your netrc file: /root/.netrc\n"
          ],
          "name": "stdout"
        }
      ]
    },
    {
      "cell_type": "code",
      "metadata": {
        "id": "mlYVdkyjqeTc"
      },
      "source": [
        "import wandb\n",
        "\n",
        "WANDB_NAME = f'imdb-{model_name}-simple'\n",
        "GROUP = 'IMDB'\n",
        "NOTES = f'Simple finetuning {model_name} with RAdam lr=2e-5'\n",
        "CONFIG = {}\n",
        "TAGS =[model_name,'imdb','radam','simple']"
      ],
      "execution_count": null,
      "outputs": []
    },
    {
      "cell_type": "code",
      "metadata": {
        "colab": {
          "base_uri": "https://localhost:8080/",
          "height": 618
        },
        "id": "jz7ZsJEaqeJ4",
        "outputId": "d5a590b5-32f9-4ced-8d89-67600908a16f"
      },
      "source": [
        "wandb.init(reinit=True, project=\"lm-finetuning\", entity=\"arampacha\", \n",
        "           name=WANDB_NAME, group=GROUP, notes=NOTES, tags=TAGS, config=CONFIG)"
      ],
      "execution_count": null,
      "outputs": [
        {
          "output_type": "stream",
          "text": [
            "\u001b[34m\u001b[1mwandb\u001b[0m: Currently logged in as: \u001b[33mfastai_community\u001b[0m (use `wandb login --relogin` to force relogin)\n"
          ],
          "name": "stderr"
        },
        {
          "output_type": "display_data",
          "data": {
            "text/html": [
              "\n",
              "                Tracking run with wandb version 0.10.19<br/>\n",
              "                Syncing run <strong style=\"color:#cdcd00\">imdb-microsoft/deberta-base-simple</strong> to <a href=\"https://wandb.ai\" target=\"_blank\">Weights & Biases</a> <a href=\"https://docs.wandb.com/integrations/jupyter.html\" target=\"_blank\">(Documentation)</a>.<br/>\n",
              "                Project page: <a href=\"https://wandb.ai/arampacha/lm-finetuning\" target=\"_blank\">https://wandb.ai/arampacha/lm-finetuning</a><br/>\n",
              "                Run page: <a href=\"https://wandb.ai/arampacha/lm-finetuning/runs/3u2msbkp\" target=\"_blank\">https://wandb.ai/arampacha/lm-finetuning/runs/3u2msbkp</a><br/>\n",
              "                Run data is saved locally in <code>/content/wandb/run-20210220_111858-3u2msbkp</code><br/><br/>\n",
              "            "
            ],
            "text/plain": [
              "<IPython.core.display.HTML object>"
            ]
          },
          "metadata": {
            "tags": []
          }
        },
        {
          "output_type": "execute_result",
          "data": {
            "text/plain": [
              "<wandb.sdk.wandb_run.Run at 0x7fb61a067fd0>"
            ],
            "text/html": [
              "<h1>Run(3u2msbkp)</h1><iframe src=\"https://wandb.ai/arampacha/lm-finetuning/runs/3u2msbkp\" style=\"border:none;width:100%;height:400px\"></iframe>"
            ]
          },
          "metadata": {
            "tags": []
          },
          "execution_count": 8
        }
      ]
    },
    {
      "cell_type": "markdown",
      "metadata": {
        "id": "xOt3LLB-IP4D"
      },
      "source": [
        "## Training"
      ]
    },
    {
      "cell_type": "code",
      "metadata": {
        "id": "mZSfWF7MgA-i",
        "colab": {
          "base_uri": "https://localhost:8080/"
        },
        "outputId": "9fd12119-c85d-484c-d097-adb5730b3208"
      },
      "source": [
        "from transformers import *\n",
        "\n",
        "from blurr.data.all import *\n",
        "from blurr.modeling.all import *"
      ],
      "execution_count": null,
      "outputs": [
        {
          "output_type": "stream",
          "text": [
            "[nltk_data] Downloading package wordnet to /root/nltk_data...\n",
            "[nltk_data]   Unzipping corpora/wordnet.zip.\n"
          ],
          "name": "stdout"
        }
      ]
    },
    {
      "cell_type": "code",
      "metadata": {
        "colab": {
          "base_uri": "https://localhost:8080/",
          "height": 179,
          "referenced_widgets": [
            "168058a9ab384a35b5159110115f786a",
            "2d403d96a06b4974aea89013f7cc0985",
            "8846698f546341549a04befcb6400b0d",
            "1c31d86a712c45ed843eaa5993a2a6fe",
            "0673668c62a748c09b5af60a5769a181",
            "5c2b831b46624d719773a9c6c6e9e109",
            "c390a3ce89264c2e97224871d36ec1b7",
            "c890099995a7483886b6906410a8b49c",
            "0c1826292ad8468ab3345f5a5315dacd",
            "28dfcd5a804743109e8015894ce2db48",
            "0ae9fb490d83400e9cb712376a55bfdd",
            "d9b5e1ab16f8485cbf6b0e7ee2bc47a7",
            "d2183f6784b844ea95899f6102a6acf4",
            "fce2f78623f440b6977a64098b5bf0cc",
            "e664de936a2549ca9b56f89ba7f20a05",
            "02a2b6c3e04a4ffc9eaa7fb324fde416",
            "51e1970e76cc482ca44c446681696bf6",
            "b42d81ecf1f546f19b64ca747dd9af85",
            "15cbac6066df4a8ca93f01e0ec4070be",
            "54faf1b7309f42e9981053e3ee7b3b6b",
            "51dd38352c7e4267a59e58d322020c95",
            "08c0979e9ad141989ff1b33c9ad4d72a",
            "ca0642a01ad44dd6a70de1f8ef69d5bf",
            "c85d3cc2013240209e3bfd3fb2346323"
          ]
        },
        "id": "eka41_O1IX4c",
        "outputId": "f8a1c37e-72b6-4520-a4c2-cdcf43b3c106"
      },
      "source": [
        "task = HF_TASKS_AUTO.SequenceClassification\n",
        "\n",
        "hf_arch, hf_config, hf_tokenizer, hf_model = BLURR_MODEL_HELPER.get_hf_objects(model_name, task=task, tokenizer_kwargs={'max_len':512})"
      ],
      "execution_count": null,
      "outputs": [
        {
          "output_type": "display_data",
          "data": {
            "application/vnd.jupyter.widget-view+json": {
              "model_id": "168058a9ab384a35b5159110115f786a",
              "version_minor": 0,
              "version_major": 2
            },
            "text/plain": [
              "HBox(children=(FloatProgress(value=0.0, description='Downloading', max=474.0, style=ProgressStyle(description_…"
            ]
          },
          "metadata": {
            "tags": []
          }
        },
        {
          "output_type": "stream",
          "text": [
            "\n"
          ],
          "name": "stdout"
        },
        {
          "output_type": "display_data",
          "data": {
            "application/vnd.jupyter.widget-view+json": {
              "model_id": "0c1826292ad8468ab3345f5a5315dacd",
              "version_minor": 0,
              "version_major": 2
            },
            "text/plain": [
              "HBox(children=(FloatProgress(value=0.0, description='Downloading', max=3917897.0, style=ProgressStyle(descript…"
            ]
          },
          "metadata": {
            "tags": []
          }
        },
        {
          "output_type": "stream",
          "text": [
            "\n"
          ],
          "name": "stdout"
        },
        {
          "output_type": "display_data",
          "data": {
            "application/vnd.jupyter.widget-view+json": {
              "model_id": "51e1970e76cc482ca44c446681696bf6",
              "version_minor": 0,
              "version_major": 2
            },
            "text/plain": [
              "HBox(children=(FloatProgress(value=0.0, description='Downloading', max=558582766.0, style=ProgressStyle(descri…"
            ]
          },
          "metadata": {
            "tags": []
          }
        },
        {
          "output_type": "stream",
          "text": [
            "\n"
          ],
          "name": "stdout"
        }
      ]
    },
    {
      "cell_type": "code",
      "metadata": {
        "id": "XaVTj6xdJdNT"
      },
      "source": [
        "blocks = (HF_TextBlock(hf_arch, hf_config, hf_tokenizer, hf_model), CategoryBlock)\n",
        "dblock = DataBlock(blocks=blocks, \n",
        "                   get_items=get_text_files,\n",
        "                   get_x = read_text,\n",
        "                   get_y=parent_label,\n",
        "                   splitter=GrandparentSplitter(valid_name='test'))\n",
        "\n",
        "dls = dblock.dataloaders(path, bs=bs, val_bs=val_bs)"
      ],
      "execution_count": null,
      "outputs": []
    },
    {
      "cell_type": "code",
      "metadata": {
        "colab": {
          "base_uri": "https://localhost:8080/",
          "height": 1000
        },
        "id": "2Jnqny_nJPX-",
        "outputId": "6f95d7e5-5364-449c-e8f5-f0a7cc909e1f"
      },
      "source": [
        "model = HF_BaseModelWrapper(hf_model)\n",
        "learn = Learner(dls,\n",
        "                model,\n",
        "                opt_func=RAdam,\n",
        "                metrics=[accuracy],\n",
        "                cbs=[HF_BaseModelCallback],\n",
        "                splitter=hf_splitter).to_fp16()\n",
        "\n",
        "learn.create_opt() \n",
        "learn.freeze()\n",
        "learn.blurr_summary()"
      ],
      "execution_count": null,
      "outputs": [
        {
          "output_type": "display_data",
          "data": {
            "text/html": [
              ""
            ],
            "text/plain": [
              "<IPython.core.display.HTML object>"
            ]
          },
          "metadata": {
            "tags": []
          }
        },
        {
          "output_type": "execute_result",
          "data": {
            "application/vnd.google.colaboratory.intrinsic+json": {
              "type": "string"
            },
            "text/plain": [
              "HF_BaseModelWrapper (Input shape: 8 x 512)\n",
              "============================================================================\n",
              "Layer (type)         Output Shape         Param #    Trainable \n",
              "============================================================================\n",
              "                     8 x 512 x 768       \n",
              "Embedding                                 38603520   False     \n",
              "DebertaLayerNorm                          1536       False     \n",
              "StableDropout                                                  \n",
              "____________________________________________________________________________\n",
              "                     8 x 512 x 2304      \n",
              "Linear                                    1769472    False     \n",
              "StableDropout                                                  \n",
              "Linear                                    589824     False     \n",
              "Linear                                    590592     False     \n",
              "StableDropout                                                  \n",
              "Linear                                    590592     False     \n",
              "DebertaLayerNorm                          1536       False     \n",
              "StableDropout                                                  \n",
              "____________________________________________________________________________\n",
              "                     8 x 512 x 3072      \n",
              "Linear                                    2362368    False     \n",
              "____________________________________________________________________________\n",
              "                     8 x 512 x 768       \n",
              "Linear                                    2360064    False     \n",
              "DebertaLayerNorm                          1536       False     \n",
              "StableDropout                                                  \n",
              "____________________________________________________________________________\n",
              "                     8 x 512 x 2304      \n",
              "Linear                                    1769472    False     \n",
              "StableDropout                                                  \n",
              "Linear                                    589824     False     \n",
              "Linear                                    590592     False     \n",
              "StableDropout                                                  \n",
              "Linear                                    590592     False     \n",
              "DebertaLayerNorm                          1536       False     \n",
              "StableDropout                                                  \n",
              "____________________________________________________________________________\n",
              "                     8 x 512 x 3072      \n",
              "Linear                                    2362368    False     \n",
              "____________________________________________________________________________\n",
              "                     8 x 512 x 768       \n",
              "Linear                                    2360064    False     \n",
              "DebertaLayerNorm                          1536       False     \n",
              "StableDropout                                                  \n",
              "____________________________________________________________________________\n",
              "                     8 x 512 x 2304      \n",
              "Linear                                    1769472    False     \n",
              "StableDropout                                                  \n",
              "Linear                                    589824     False     \n",
              "Linear                                    590592     False     \n",
              "StableDropout                                                  \n",
              "Linear                                    590592     False     \n",
              "DebertaLayerNorm                          1536       False     \n",
              "StableDropout                                                  \n",
              "____________________________________________________________________________\n",
              "                     8 x 512 x 3072      \n",
              "Linear                                    2362368    False     \n",
              "____________________________________________________________________________\n",
              "                     8 x 512 x 768       \n",
              "Linear                                    2360064    False     \n",
              "DebertaLayerNorm                          1536       False     \n",
              "StableDropout                                                  \n",
              "____________________________________________________________________________\n",
              "                     8 x 512 x 2304      \n",
              "Linear                                    1769472    False     \n",
              "StableDropout                                                  \n",
              "Linear                                    589824     False     \n",
              "Linear                                    590592     False     \n",
              "StableDropout                                                  \n",
              "Linear                                    590592     False     \n",
              "DebertaLayerNorm                          1536       False     \n",
              "StableDropout                                                  \n",
              "____________________________________________________________________________\n",
              "                     8 x 512 x 3072      \n",
              "Linear                                    2362368    False     \n",
              "____________________________________________________________________________\n",
              "                     8 x 512 x 768       \n",
              "Linear                                    2360064    False     \n",
              "DebertaLayerNorm                          1536       False     \n",
              "StableDropout                                                  \n",
              "____________________________________________________________________________\n",
              "                     8 x 512 x 2304      \n",
              "Linear                                    1769472    False     \n",
              "StableDropout                                                  \n",
              "Linear                                    589824     False     \n",
              "Linear                                    590592     False     \n",
              "StableDropout                                                  \n",
              "Linear                                    590592     False     \n",
              "DebertaLayerNorm                          1536       False     \n",
              "StableDropout                                                  \n",
              "____________________________________________________________________________\n",
              "                     8 x 512 x 3072      \n",
              "Linear                                    2362368    False     \n",
              "____________________________________________________________________________\n",
              "                     8 x 512 x 768       \n",
              "Linear                                    2360064    False     \n",
              "DebertaLayerNorm                          1536       False     \n",
              "StableDropout                                                  \n",
              "____________________________________________________________________________\n",
              "                     8 x 512 x 2304      \n",
              "Linear                                    1769472    False     \n",
              "StableDropout                                                  \n",
              "Linear                                    589824     False     \n",
              "Linear                                    590592     False     \n",
              "StableDropout                                                  \n",
              "Linear                                    590592     False     \n",
              "DebertaLayerNorm                          1536       False     \n",
              "StableDropout                                                  \n",
              "____________________________________________________________________________\n",
              "                     8 x 512 x 3072      \n",
              "Linear                                    2362368    False     \n",
              "____________________________________________________________________________\n",
              "                     8 x 512 x 768       \n",
              "Linear                                    2360064    False     \n",
              "DebertaLayerNorm                          1536       False     \n",
              "StableDropout                                                  \n",
              "____________________________________________________________________________\n",
              "                     8 x 512 x 2304      \n",
              "Linear                                    1769472    False     \n",
              "StableDropout                                                  \n",
              "Linear                                    589824     False     \n",
              "Linear                                    590592     False     \n",
              "StableDropout                                                  \n",
              "Linear                                    590592     False     \n",
              "DebertaLayerNorm                          1536       False     \n",
              "StableDropout                                                  \n",
              "____________________________________________________________________________\n",
              "                     8 x 512 x 3072      \n",
              "Linear                                    2362368    False     \n",
              "____________________________________________________________________________\n",
              "                     8 x 512 x 768       \n",
              "Linear                                    2360064    False     \n",
              "DebertaLayerNorm                          1536       False     \n",
              "StableDropout                                                  \n",
              "____________________________________________________________________________\n",
              "                     8 x 512 x 2304      \n",
              "Linear                                    1769472    False     \n",
              "StableDropout                                                  \n",
              "Linear                                    589824     False     \n",
              "Linear                                    590592     False     \n",
              "StableDropout                                                  \n",
              "Linear                                    590592     False     \n",
              "DebertaLayerNorm                          1536       False     \n",
              "StableDropout                                                  \n",
              "____________________________________________________________________________\n",
              "                     8 x 512 x 3072      \n",
              "Linear                                    2362368    False     \n",
              "____________________________________________________________________________\n",
              "                     8 x 512 x 768       \n",
              "Linear                                    2360064    False     \n",
              "DebertaLayerNorm                          1536       False     \n",
              "StableDropout                                                  \n",
              "____________________________________________________________________________\n",
              "                     8 x 512 x 2304      \n",
              "Linear                                    1769472    False     \n",
              "StableDropout                                                  \n",
              "Linear                                    589824     False     \n",
              "Linear                                    590592     False     \n",
              "StableDropout                                                  \n",
              "Linear                                    590592     False     \n",
              "DebertaLayerNorm                          1536       False     \n",
              "StableDropout                                                  \n",
              "____________________________________________________________________________\n",
              "                     8 x 512 x 3072      \n",
              "Linear                                    2362368    False     \n",
              "____________________________________________________________________________\n",
              "                     8 x 512 x 768       \n",
              "Linear                                    2360064    False     \n",
              "DebertaLayerNorm                          1536       False     \n",
              "StableDropout                                                  \n",
              "____________________________________________________________________________\n",
              "                     8 x 512 x 2304      \n",
              "Linear                                    1769472    False     \n",
              "StableDropout                                                  \n",
              "Linear                                    589824     False     \n",
              "Linear                                    590592     False     \n",
              "StableDropout                                                  \n",
              "Linear                                    590592     False     \n",
              "DebertaLayerNorm                          1536       False     \n",
              "StableDropout                                                  \n",
              "____________________________________________________________________________\n",
              "                     8 x 512 x 3072      \n",
              "Linear                                    2362368    False     \n",
              "____________________________________________________________________________\n",
              "                     8 x 512 x 768       \n",
              "Linear                                    2360064    False     \n",
              "DebertaLayerNorm                          1536       False     \n",
              "StableDropout                                                  \n",
              "____________________________________________________________________________\n",
              "                     8 x 512 x 2304      \n",
              "Linear                                    1769472    False     \n",
              "StableDropout                                                  \n",
              "Linear                                    589824     False     \n",
              "Linear                                    590592     False     \n",
              "StableDropout                                                  \n",
              "Linear                                    590592     False     \n",
              "DebertaLayerNorm                          1536       False     \n",
              "StableDropout                                                  \n",
              "____________________________________________________________________________\n",
              "                     8 x 512 x 3072      \n",
              "Linear                                    2362368    False     \n",
              "____________________________________________________________________________\n",
              "                     8 x 512 x 768       \n",
              "Linear                                    2360064    False     \n",
              "DebertaLayerNorm                          1536       False     \n",
              "StableDropout                                                  \n",
              "____________________________________________________________________________\n",
              "                     8 x 512 x 2304      \n",
              "Linear                                    1769472    False     \n",
              "StableDropout                                                  \n",
              "Linear                                    589824     False     \n",
              "Linear                                    590592     False     \n",
              "StableDropout                                                  \n",
              "Linear                                    590592     False     \n",
              "DebertaLayerNorm                          1536       False     \n",
              "StableDropout                                                  \n",
              "____________________________________________________________________________\n",
              "                     8 x 512 x 3072      \n",
              "Linear                                    2362368    False     \n",
              "____________________________________________________________________________\n",
              "                     8 x 512 x 768       \n",
              "Linear                                    2360064    False     \n",
              "DebertaLayerNorm                          1536       False     \n",
              "StableDropout                                                  \n",
              "Linear                                    590592     False     \n",
              "StableDropout                                                  \n",
              "____________________________________________________________________________\n",
              "                     8 x 2               \n",
              "Linear                                    1538       True      \n",
              "StableDropout                                                  \n",
              "____________________________________________________________________________\n",
              "\n",
              "Total params: 138,388,994\n",
              "Total trainable params: 1,538\n",
              "Total non-trainable params: 138,387,456\n",
              "\n",
              "Optimizer used: <function RAdam at 0x7fb672c9e2f0>\n",
              "Loss function: FlattenedLoss of CrossEntropyLoss()\n",
              "\n",
              "Model frozen up to parameter group #3\n",
              "\n",
              "Callbacks:\n",
              "  - TrainEvalCallback\n",
              "  - Recorder\n",
              "  - ProgressCallback\n",
              "  - HF_BaseModelCallback\n",
              "  - MixedPrecision"
            ]
          },
          "metadata": {
            "tags": []
          },
          "execution_count": 12
        }
      ]
    },
    {
      "cell_type": "markdown",
      "metadata": {
        "id": "uWLXXkBYm2t8"
      },
      "source": [
        "### Simple ft"
      ]
    },
    {
      "cell_type": "code",
      "metadata": {
        "colab": {
          "base_uri": "https://localhost:8080/",
          "height": 210
        },
        "id": "QaLqroCdbN2f",
        "outputId": "f139f356-0644-4238-f16e-35c5ddccedff"
      },
      "source": [
        "learn.unfreeze()\n",
        "learn.fit_one_cycle(4, 2e-5, cbs=WandbCallback(log_preds=False, log_model=False))"
      ],
      "execution_count": null,
      "outputs": [
        {
          "output_type": "stream",
          "text": [
            "Could not gather input dimensions\n"
          ],
          "name": "stdout"
        },
        {
          "output_type": "display_data",
          "data": {
            "text/html": [
              "<table border=\"1\" class=\"dataframe\">\n",
              "  <thead>\n",
              "    <tr style=\"text-align: left;\">\n",
              "      <th>epoch</th>\n",
              "      <th>train_loss</th>\n",
              "      <th>valid_loss</th>\n",
              "      <th>accuracy</th>\n",
              "      <th>time</th>\n",
              "    </tr>\n",
              "  </thead>\n",
              "  <tbody>\n",
              "    <tr>\n",
              "      <td>0</td>\n",
              "      <td>0.160276</td>\n",
              "      <td>0.164386</td>\n",
              "      <td>0.939760</td>\n",
              "      <td>29:55</td>\n",
              "    </tr>\n",
              "    <tr>\n",
              "      <td>1</td>\n",
              "      <td>0.132156</td>\n",
              "      <td>0.129645</td>\n",
              "      <td>0.953120</td>\n",
              "      <td>30:00</td>\n",
              "    </tr>\n",
              "    <tr>\n",
              "      <td>2</td>\n",
              "      <td>0.048035</td>\n",
              "      <td>0.143527</td>\n",
              "      <td>0.957000</td>\n",
              "      <td>30:00</td>\n",
              "    </tr>\n",
              "    <tr>\n",
              "      <td>3</td>\n",
              "      <td>0.044810</td>\n",
              "      <td>0.180624</td>\n",
              "      <td>0.958000</td>\n",
              "      <td>29:58</td>\n",
              "    </tr>\n",
              "  </tbody>\n",
              "</table>"
            ],
            "text/plain": [
              "<IPython.core.display.HTML object>"
            ]
          },
          "metadata": {
            "tags": []
          }
        }
      ]
    },
    {
      "cell_type": "markdown",
      "metadata": {
        "id": "IAdYS5Ktmps3"
      },
      "source": [
        "### All unfrozen"
      ]
    },
    {
      "cell_type": "code",
      "metadata": {
        "colab": {
          "base_uri": "https://localhost:8080/",
          "height": 156
        },
        "id": "dGZG0u5FSHeh",
        "outputId": "6ae3b018-5956-41fd-e63e-eb3647f7df35"
      },
      "source": [
        "learn.load('stage0')\n",
        "learn.unfreeze()\n",
        "learn.fit_one_cycle(3, slice(2e-6, 2e-5))"
      ],
      "execution_count": null,
      "outputs": [
        {
          "output_type": "display_data",
          "data": {
            "text/html": [
              "<table border=\"1\" class=\"dataframe\">\n",
              "  <thead>\n",
              "    <tr style=\"text-align: left;\">\n",
              "      <th>epoch</th>\n",
              "      <th>train_loss</th>\n",
              "      <th>valid_loss</th>\n",
              "      <th>accuracy</th>\n",
              "      <th>time</th>\n",
              "    </tr>\n",
              "  </thead>\n",
              "  <tbody>\n",
              "    <tr>\n",
              "      <td>0</td>\n",
              "      <td>0.184030</td>\n",
              "      <td>0.191095</td>\n",
              "      <td>0.925880</td>\n",
              "      <td>16:47</td>\n",
              "    </tr>\n",
              "    <tr>\n",
              "      <td>1</td>\n",
              "      <td>0.179359</td>\n",
              "      <td>0.179827</td>\n",
              "      <td>0.931040</td>\n",
              "      <td>16:47</td>\n",
              "    </tr>\n",
              "    <tr>\n",
              "      <td>2</td>\n",
              "      <td>0.120620</td>\n",
              "      <td>0.194259</td>\n",
              "      <td>0.931000</td>\n",
              "      <td>16:46</td>\n",
              "    </tr>\n",
              "  </tbody>\n",
              "</table>"
            ],
            "text/plain": [
              "<IPython.core.display.HTML object>"
            ]
          },
          "metadata": {
            "tags": []
          }
        }
      ]
    },
    {
      "cell_type": "markdown",
      "metadata": {
        "id": "TWeCfB8uvQHX"
      },
      "source": [
        "### Adam"
      ]
    },
    {
      "cell_type": "code",
      "metadata": {
        "id": "8kEe30NlvPlz"
      },
      "source": [
        "learn.load('stage0')\n",
        "learn.opt_func = Adam"
      ],
      "execution_count": null,
      "outputs": []
    },
    {
      "cell_type": "code",
      "metadata": {
        "colab": {
          "base_uri": "https://localhost:8080/",
          "height": 100
        },
        "id": "fuxel-TwSYh-",
        "outputId": "a8389582-f2ff-482c-864b-e51044951794"
      },
      "source": [
        "learn.unfreeze()\n",
        "learn.fit_one_cycle(3, 2e-5)"
      ],
      "execution_count": null,
      "outputs": [
        {
          "output_type": "display_data",
          "data": {
            "text/html": [
              "\n",
              "    <div>\n",
              "        <style>\n",
              "            /* Turns off some styling */\n",
              "            progress {\n",
              "                /* gets rid of default border in Firefox and Opera. */\n",
              "                border: none;\n",
              "                /* Needs to be in here for Safari polyfill so background images work as expected. */\n",
              "                background-size: auto;\n",
              "            }\n",
              "            .progress-bar-interrupted, .progress-bar-interrupted::-webkit-progress-bar {\n",
              "                background: #F44336;\n",
              "            }\n",
              "        </style>\n",
              "      <progress value='0' class='' max='3' style='width:300px; height:20px; vertical-align: middle;'></progress>\n",
              "      0.00% [0/3 00:00<00:00]\n",
              "    </div>\n",
              "    \n",
              "<table border=\"1\" class=\"dataframe\">\n",
              "  <thead>\n",
              "    <tr style=\"text-align: left;\">\n",
              "      <th>epoch</th>\n",
              "      <th>train_loss</th>\n",
              "      <th>valid_loss</th>\n",
              "      <th>accuracy</th>\n",
              "      <th>time</th>\n",
              "    </tr>\n",
              "  </thead>\n",
              "  <tbody>\n",
              "  </tbody>\n",
              "</table><p>\n",
              "\n",
              "    <div>\n",
              "        <style>\n",
              "            /* Turns off some styling */\n",
              "            progress {\n",
              "                /* gets rid of default border in Firefox and Opera. */\n",
              "                border: none;\n",
              "                /* Needs to be in here for Safari polyfill so background images work as expected. */\n",
              "                background-size: auto;\n",
              "            }\n",
              "            .progress-bar-interrupted, .progress-bar-interrupted::-webkit-progress-bar {\n",
              "                background: #F44336;\n",
              "            }\n",
              "        </style>\n",
              "      <progress value='2749' class='' max='3125' style='width:300px; height:20px; vertical-align: middle;'></progress>\n",
              "      87.97% [2749/3125 11:17<01:32 0.2443]\n",
              "    </div>\n",
              "    "
            ],
            "text/plain": [
              "<IPython.core.display.HTML object>"
            ]
          },
          "metadata": {
            "tags": []
          }
        }
      ]
    },
    {
      "cell_type": "code",
      "metadata": {
        "id": "YuOKqVZDrqdg"
      },
      "source": [
        ""
      ],
      "execution_count": null,
      "outputs": []
    }
  ]
}